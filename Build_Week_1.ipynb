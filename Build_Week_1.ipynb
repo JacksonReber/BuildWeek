{
  "nbformat": 4,
  "nbformat_minor": 0,
  "metadata": {
    "colab": {
      "name": "Build Week 1.ipynb",
      "provenance": [],
      "collapsed_sections": [],
      "authorship_tag": "ABX9TyP+fPAIZNQV92PLHCcR04AD",
      "include_colab_link": true
    },
    "kernelspec": {
      "name": "python3",
      "display_name": "Python 3"
    },
    "language_info": {
      "name": "python"
    }
  },
  "cells": [
    {
      "cell_type": "markdown",
      "metadata": {
        "id": "view-in-github",
        "colab_type": "text"
      },
      "source": [
        "<a href=\"https://colab.research.google.com/github/JacksonReber/BuildWeek/blob/master/Build_Week_1.ipynb\" target=\"_parent\"><img src=\"https://colab.research.google.com/assets/colab-badge.svg\" alt=\"Open In Colab\"/></a>"
      ]
    },
    {
      "cell_type": "code",
      "metadata": {
        "id": "0x5lyNUnZaxZ"
      },
      "source": [
        "import pandas as pd\n",
        "\n",
        "df = pd.merge(pd.read_csv('naep.csv'), \n",
        "                 pd.read_csv('states.csv'))\n",
        "df1 = pd.read_csv('naep.csv')\n",
        "df2 = pd.read_csv('states.csv')\n",
        "df3 = pd.read_csv('districts.csv')"
      ],
      "execution_count": 34,
      "outputs": []
    },
    {
      "cell_type": "code",
      "metadata": {
        "id": "7T3SyztQbDqs",
        "colab": {
          "base_uri": "https://localhost:8080/",
          "height": 205
        },
        "outputId": "c5e1c5f4-4f9d-4f7c-985b-911afd37bf9c"
      },
      "source": [
        "df1.head()"
      ],
      "execution_count": 36,
      "outputs": [
        {
          "output_type": "execute_result",
          "data": {
            "text/html": [
              "<div>\n",
              "<style scoped>\n",
              "    .dataframe tbody tr th:only-of-type {\n",
              "        vertical-align: middle;\n",
              "    }\n",
              "\n",
              "    .dataframe tbody tr th {\n",
              "        vertical-align: top;\n",
              "    }\n",
              "\n",
              "    .dataframe thead th {\n",
              "        text-align: right;\n",
              "    }\n",
              "</style>\n",
              "<table border=\"1\" class=\"dataframe\">\n",
              "  <thead>\n",
              "    <tr style=\"text-align: right;\">\n",
              "      <th></th>\n",
              "      <th>YEAR</th>\n",
              "      <th>STATE</th>\n",
              "      <th>AVG_SCORE</th>\n",
              "      <th>TEST_SUBJECT</th>\n",
              "      <th>TEST_YEAR</th>\n",
              "    </tr>\n",
              "  </thead>\n",
              "  <tbody>\n",
              "    <tr>\n",
              "      <th>0</th>\n",
              "      <td>2017</td>\n",
              "      <td>Alabama</td>\n",
              "      <td>232.170687741509</td>\n",
              "      <td>Mathematics</td>\n",
              "      <td>4</td>\n",
              "    </tr>\n",
              "    <tr>\n",
              "      <th>1</th>\n",
              "      <td>2017</td>\n",
              "      <td>Alaska</td>\n",
              "      <td>230.456277558902</td>\n",
              "      <td>Mathematics</td>\n",
              "      <td>4</td>\n",
              "    </tr>\n",
              "    <tr>\n",
              "      <th>2</th>\n",
              "      <td>2017</td>\n",
              "      <td>Arizona</td>\n",
              "      <td>234.435788152091</td>\n",
              "      <td>Mathematics</td>\n",
              "      <td>4</td>\n",
              "    </tr>\n",
              "    <tr>\n",
              "      <th>3</th>\n",
              "      <td>2017</td>\n",
              "      <td>Arkansas</td>\n",
              "      <td>233.848143678937</td>\n",
              "      <td>Mathematics</td>\n",
              "      <td>4</td>\n",
              "    </tr>\n",
              "    <tr>\n",
              "      <th>4</th>\n",
              "      <td>2017</td>\n",
              "      <td>California</td>\n",
              "      <td>232.262940994562</td>\n",
              "      <td>Mathematics</td>\n",
              "      <td>4</td>\n",
              "    </tr>\n",
              "  </tbody>\n",
              "</table>\n",
              "</div>"
            ],
            "text/plain": [
              "   YEAR       STATE         AVG_SCORE TEST_SUBJECT  TEST_YEAR\n",
              "0  2017     Alabama  232.170687741509  Mathematics          4\n",
              "1  2017      Alaska  230.456277558902  Mathematics          4\n",
              "2  2017     Arizona  234.435788152091  Mathematics          4\n",
              "3  2017    Arkansas  233.848143678937  Mathematics          4\n",
              "4  2017  California  232.262940994562  Mathematics          4"
            ]
          },
          "metadata": {
            "tags": []
          },
          "execution_count": 36
        }
      ]
    }
  ]
}