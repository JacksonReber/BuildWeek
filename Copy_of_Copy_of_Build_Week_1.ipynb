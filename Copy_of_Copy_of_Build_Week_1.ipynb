{
  "nbformat": 4,
  "nbformat_minor": 0,
  "metadata": {
    "colab": {
      "name": "Copy of Copy of Build Week 1.ipynb",
      "provenance": [],
      "collapsed_sections": [],
      "authorship_tag": "ABX9TyM0KGt3gaSkIcBJwx+FIr+P",
      "include_colab_link": true
    },
    "kernelspec": {
      "name": "python3",
      "display_name": "Python 3"
    },
    "language_info": {
      "name": "python"
    }
  },
  "cells": [
    {
      "cell_type": "markdown",
      "metadata": {
        "id": "view-in-github",
        "colab_type": "text"
      },
      "source": [
        "<a href=\"https://colab.research.google.com/github/JacksonReber/BuildWeek/blob/master/Copy_of_Copy_of_Build_Week_1.ipynb\" target=\"_parent\"><img src=\"https://colab.research.google.com/assets/colab-badge.svg\" alt=\"Open In Colab\"/></a>"
      ]
    },
    {
      "cell_type": "code",
      "metadata": {
        "id": "FbAV1C90rSOR"
      },
      "source": [
        "import matplotlib.pyplot as plt\n",
        "import seaborn as sns\n",
        "import pandas as pd\n",
        "pd.options.display.max_rows = 1000\n",
        "pd.options.display.max_columns = 1000\n",
        "from sklearn.model_selection import train_test_split\n",
        "from sklearn.linear_model import LinearRegression\n",
        "from sklearn.preprocessing import OneHotEncoder\n",
        "from sklearn import metrics\n",
        "from sklearn.metrics import mean_squared_error\n",
        "import math\n",
        "from statsmodels.formula.api import ols\n"
      ],
      "execution_count": 269,
      "outputs": []
    },
    {
      "cell_type": "code",
      "metadata": {
        "id": "vKCIDchoH8Nw"
      },
      "source": [
        "us_state_abbrev = {\n",
        "    'Alabama': 1,\n",
        "    'Alaska': 2,\n",
        "    'Arizona': 3,\n",
        "    'Arkansas': 4,\n",
        "    'California': 5,\n",
        "    'Colorado': 6,\n",
        "    'Connecticut': 7,\n",
        "    'Delaware': 8,\n",
        "    'Florida': 9,\n",
        "    'Georgia': 10,\n",
        "    'Hawaii': 11,\n",
        "    'Idaho': 12,\n",
        "    'Illinois': 13,\n",
        "    'Indiana': 14,\n",
        "    'Iowa': 15,\n",
        "    'Kansas': 16,\n",
        "    'Kentucky': 17,\n",
        "    'Louisiana': 18,\n",
        "    'Maine': 19,\n",
        "    'Maryland': 20,\n",
        "    'Massachusetts': 21,\n",
        "    'Michigan': 22,\n",
        "    'Minnesota': 23,\n",
        "    'Mississippi': 24,\n",
        "    'Missouri': 25,\n",
        "    'Montana': 26,\n",
        "    'Nebraska': 27,\n",
        "    'Nevada': 28,\n",
        "    'New Hampshire': 29,\n",
        "    'New Jersey': 30,\n",
        "    'New Mexico': 31,\n",
        "    'New York': 32,\n",
        "    'North Carolina': 33,\n",
        "    'North Dakota': 34,\n",
        "    'Ohio': 35,\n",
        "    'Oklahoma': 36,\n",
        "    'Oregon': 37,\n",
        "    'Pennsylvania': 38,\n",
        "    'Rhode Island': 39,\n",
        "    'South Carolina': 40,\n",
        "    'South Dakota': 41,\n",
        "    'Tennessee': 42,\n",
        "    'Texas': 43,\n",
        "    'Utah': 44,\n",
        "    'Vermont': 45,\n",
        "    'Virginia': 46,\n",
        "    'Washington': 47,\n",
        "    'West Virginia': 48,\n",
        "    'Wisconsin': 49,\n",
        "    'Wyoming': 50,\n",
        "    'District of Columbia': 51\n",
        "}\n"
      ],
      "execution_count": 270,
      "outputs": []
    },
    {
      "cell_type": "code",
      "metadata": {
        "id": "0x5lyNUnZaxZ"
      },
      "source": [
        "df = pd.merge(pd.read_csv('naep.csv'), \n",
        "                 pd.read_csv('states.csv'))\n",
        "df1 = pd.read_csv('districts.csv')\n",
        "def wrangle(df):\n",
        "  df['AVG_SCORE'] = pd.to_numeric(df['AVG_SCORE'], errors='coerce')\n",
        "  df['AVG_SCORE'] = round(df['AVG_SCORE'], ndigits=4)\n",
        "  df.set_index('YEAR', inplace=True)\n",
        "  df = df.drop(index=[1992,1994, 1996, 1998, 2000, 2002], inplace=True)\n",
        "  \n",
        "\n",
        "\n",
        "  return df\n",
        "data = wrangle(df)"
      ],
      "execution_count": 271,
      "outputs": []
    },
    {
      "cell_type": "code",
      "metadata": {
        "id": "SSdjm3BCIeQa"
      },
      "source": [
        "df['STATE'] = df['STATE'].map(us_state_abbrev).fillna(df['STATE'])\n",
        "one_hot_encoded_data = pd.get_dummies(df, columns = ['TEST_SUBJECT'])\n",
        "df = df.merge(one_hot_encoded_data)\n",
        "df = df.drop(columns='TEST_SUBJECT')"
      ],
      "execution_count": 272,
      "outputs": []
    },
    {
      "cell_type": "code",
      "metadata": {
        "id": "Q7bEfwKQ8h8v"
      },
      "source": [
        "#this converts all 50 states into a numeric value from 1 - 50\n",
        "\n"
      ],
      "execution_count": 221,
      "outputs": []
    },
    {
      "cell_type": "code",
      "metadata": {
        "id": "MRTJ9KVkCyzq",
        "outputId": "3646c9aa-39b5-4f6a-bc23-22bbc8a431d7",
        "colab": {
          "base_uri": "https://localhost:8080/",
          "height": 205
        }
      },
      "source": [
        "df1.head()\n"
      ],
      "execution_count": 283,
      "outputs": [
        {
          "output_type": "execute_result",
          "data": {
            "text/html": [
              "<div>\n",
              "<style scoped>\n",
              "    .dataframe tbody tr th:only-of-type {\n",
              "        vertical-align: middle;\n",
              "    }\n",
              "\n",
              "    .dataframe tbody tr th {\n",
              "        vertical-align: top;\n",
              "    }\n",
              "\n",
              "    .dataframe thead th {\n",
              "        text-align: right;\n",
              "    }\n",
              "</style>\n",
              "<table border=\"1\" class=\"dataframe\">\n",
              "  <thead>\n",
              "    <tr style=\"text-align: right;\">\n",
              "      <th></th>\n",
              "      <th>STATE</th>\n",
              "      <th>ENROLL</th>\n",
              "      <th>NAME</th>\n",
              "      <th>YRDATA</th>\n",
              "      <th>TOTALREV</th>\n",
              "      <th>TFEDREV</th>\n",
              "      <th>TSTREV</th>\n",
              "      <th>TLOCREV</th>\n",
              "      <th>TOTALEXP</th>\n",
              "      <th>TCURINST</th>\n",
              "      <th>TCURSSVC</th>\n",
              "      <th>TCURONON</th>\n",
              "      <th>TCAPOUT</th>\n",
              "    </tr>\n",
              "  </thead>\n",
              "  <tbody>\n",
              "    <tr>\n",
              "      <th>0</th>\n",
              "      <td>Alabama</td>\n",
              "      <td>9609.0</td>\n",
              "      <td>AUTAUGA COUNTY SCHOOL DISTRICT</td>\n",
              "      <td>2016</td>\n",
              "      <td>80867</td>\n",
              "      <td>7447</td>\n",
              "      <td>53842</td>\n",
              "      <td>19578</td>\n",
              "      <td>76672</td>\n",
              "      <td>43843</td>\n",
              "      <td>23941</td>\n",
              "      <td>6401.0</td>\n",
              "      <td>1506</td>\n",
              "    </tr>\n",
              "    <tr>\n",
              "      <th>1</th>\n",
              "      <td>Alabama</td>\n",
              "      <td>30931.0</td>\n",
              "      <td>BALDWIN COUNTY SCHOOL DISTRICT</td>\n",
              "      <td>2016</td>\n",
              "      <td>338236</td>\n",
              "      <td>23710</td>\n",
              "      <td>145180</td>\n",
              "      <td>169346</td>\n",
              "      <td>299880</td>\n",
              "      <td>164977</td>\n",
              "      <td>97231</td>\n",
              "      <td>19439.0</td>\n",
              "      <td>9749</td>\n",
              "    </tr>\n",
              "    <tr>\n",
              "      <th>2</th>\n",
              "      <td>Alabama</td>\n",
              "      <td>912.0</td>\n",
              "      <td>BARBOUR COUNTY SCHOOL DISTRICT</td>\n",
              "      <td>2016</td>\n",
              "      <td>10116</td>\n",
              "      <td>2342</td>\n",
              "      <td>5434</td>\n",
              "      <td>2340</td>\n",
              "      <td>10070</td>\n",
              "      <td>4907</td>\n",
              "      <td>3896</td>\n",
              "      <td>975.0</td>\n",
              "      <td>110</td>\n",
              "    </tr>\n",
              "    <tr>\n",
              "      <th>3</th>\n",
              "      <td>Alabama</td>\n",
              "      <td>2842.0</td>\n",
              "      <td>EUFAULA CITY SCHOOL DISTRICT</td>\n",
              "      <td>2016</td>\n",
              "      <td>26182</td>\n",
              "      <td>3558</td>\n",
              "      <td>15900</td>\n",
              "      <td>6724</td>\n",
              "      <td>29843</td>\n",
              "      <td>15302</td>\n",
              "      <td>7901</td>\n",
              "      <td>2274.0</td>\n",
              "      <td>4133</td>\n",
              "    </tr>\n",
              "    <tr>\n",
              "      <th>4</th>\n",
              "      <td>Alabama</td>\n",
              "      <td>3322.0</td>\n",
              "      <td>BIBB COUNTY SCHOOL DISTRICT</td>\n",
              "      <td>2016</td>\n",
              "      <td>32486</td>\n",
              "      <td>3664</td>\n",
              "      <td>21846</td>\n",
              "      <td>6976</td>\n",
              "      <td>31662</td>\n",
              "      <td>16407</td>\n",
              "      <td>11087</td>\n",
              "      <td>3122.0</td>\n",
              "      <td>486</td>\n",
              "    </tr>\n",
              "  </tbody>\n",
              "</table>\n",
              "</div>"
            ],
            "text/plain": [
              "     STATE   ENROLL                            NAME  YRDATA  TOTALREV  \\\n",
              "0  Alabama   9609.0  AUTAUGA COUNTY SCHOOL DISTRICT    2016     80867   \n",
              "1  Alabama  30931.0  BALDWIN COUNTY SCHOOL DISTRICT    2016    338236   \n",
              "2  Alabama    912.0  BARBOUR COUNTY SCHOOL DISTRICT    2016     10116   \n",
              "3  Alabama   2842.0    EUFAULA CITY SCHOOL DISTRICT    2016     26182   \n",
              "4  Alabama   3322.0     BIBB COUNTY SCHOOL DISTRICT    2016     32486   \n",
              "\n",
              "   TFEDREV  TSTREV  TLOCREV  TOTALEXP  TCURINST  TCURSSVC  TCURONON  TCAPOUT  \n",
              "0     7447   53842    19578     76672     43843     23941    6401.0     1506  \n",
              "1    23710  145180   169346    299880    164977     97231   19439.0     9749  \n",
              "2     2342    5434     2340     10070      4907      3896     975.0      110  \n",
              "3     3558   15900     6724     29843     15302      7901    2274.0     4133  \n",
              "4     3664   21846     6976     31662     16407     11087    3122.0      486  "
            ]
          },
          "metadata": {
            "tags": []
          },
          "execution_count": 283
        }
      ]
    },
    {
      "cell_type": "code",
      "metadata": {
        "id": "7T3SyztQbDqs",
        "colab": {
          "base_uri": "https://localhost:8080/",
          "height": 225
        },
        "outputId": "ff4757a6-3db5-4d24-df20-7abbdc3ee8c4"
      },
      "source": [
        "df.head()"
      ],
      "execution_count": 240,
      "outputs": [
        {
          "output_type": "execute_result",
          "data": {
            "text/html": [
              "<div>\n",
              "<style scoped>\n",
              "    .dataframe tbody tr th:only-of-type {\n",
              "        vertical-align: middle;\n",
              "    }\n",
              "\n",
              "    .dataframe tbody tr th {\n",
              "        vertical-align: top;\n",
              "    }\n",
              "\n",
              "    .dataframe thead th {\n",
              "        text-align: right;\n",
              "    }\n",
              "</style>\n",
              "<table border=\"1\" class=\"dataframe\">\n",
              "  <thead>\n",
              "    <tr style=\"text-align: right;\">\n",
              "      <th></th>\n",
              "      <th>STATE</th>\n",
              "      <th>AVG_SCORE</th>\n",
              "      <th>TEST_YEAR</th>\n",
              "      <th>ENROLL</th>\n",
              "      <th>TOTAL_REVENUE</th>\n",
              "      <th>FEDERAL_REVENUE</th>\n",
              "      <th>STATE_REVENUE</th>\n",
              "      <th>LOCAL_REVENUE</th>\n",
              "      <th>TOTAL_EXPENDITURE</th>\n",
              "      <th>INSTRUCTION_EXPENDITURE</th>\n",
              "      <th>SUPPORT_SERVICES_EXPENDITURE</th>\n",
              "      <th>OTHER_EXPENDITURE</th>\n",
              "      <th>CAPITAL_OUTLAY_EXPENDITURE</th>\n",
              "      <th>TEST_SUBJECT_Mathematics</th>\n",
              "      <th>TEST_SUBJECT_Reading</th>\n",
              "    </tr>\n",
              "  </thead>\n",
              "  <tbody>\n",
              "    <tr>\n",
              "      <th>0</th>\n",
              "      <td>1</td>\n",
              "      <td>230.9774</td>\n",
              "      <td>4</td>\n",
              "      <td>734974.0</td>\n",
              "      <td>7360222</td>\n",
              "      <td>795238</td>\n",
              "      <td>4080167</td>\n",
              "      <td>2484817</td>\n",
              "      <td>7501799</td>\n",
              "      <td>3817479</td>\n",
              "      <td>2414860</td>\n",
              "      <td>594283.0</td>\n",
              "      <td>510091</td>\n",
              "      <td>1</td>\n",
              "      <td>0</td>\n",
              "    </tr>\n",
              "    <tr>\n",
              "      <th>1</th>\n",
              "      <td>1</td>\n",
              "      <td>266.5553</td>\n",
              "      <td>8</td>\n",
              "      <td>734974.0</td>\n",
              "      <td>7360222</td>\n",
              "      <td>795238</td>\n",
              "      <td>4080167</td>\n",
              "      <td>2484817</td>\n",
              "      <td>7501799</td>\n",
              "      <td>3817479</td>\n",
              "      <td>2414860</td>\n",
              "      <td>594283.0</td>\n",
              "      <td>510091</td>\n",
              "      <td>1</td>\n",
              "      <td>0</td>\n",
              "    </tr>\n",
              "    <tr>\n",
              "      <th>2</th>\n",
              "      <td>1</td>\n",
              "      <td>217.0491</td>\n",
              "      <td>4</td>\n",
              "      <td>734974.0</td>\n",
              "      <td>7360222</td>\n",
              "      <td>795238</td>\n",
              "      <td>4080167</td>\n",
              "      <td>2484817</td>\n",
              "      <td>7501799</td>\n",
              "      <td>3817479</td>\n",
              "      <td>2414860</td>\n",
              "      <td>594283.0</td>\n",
              "      <td>510091</td>\n",
              "      <td>0</td>\n",
              "      <td>1</td>\n",
              "    </tr>\n",
              "    <tr>\n",
              "      <th>3</th>\n",
              "      <td>1</td>\n",
              "      <td>258.7538</td>\n",
              "      <td>8</td>\n",
              "      <td>734974.0</td>\n",
              "      <td>7360222</td>\n",
              "      <td>795238</td>\n",
              "      <td>4080167</td>\n",
              "      <td>2484817</td>\n",
              "      <td>7501799</td>\n",
              "      <td>3817479</td>\n",
              "      <td>2414860</td>\n",
              "      <td>594283.0</td>\n",
              "      <td>510091</td>\n",
              "      <td>0</td>\n",
              "      <td>1</td>\n",
              "    </tr>\n",
              "    <tr>\n",
              "      <th>4</th>\n",
              "      <td>2</td>\n",
              "      <td>236.3284</td>\n",
              "      <td>4</td>\n",
              "      <td>130755.0</td>\n",
              "      <td>2920986</td>\n",
              "      <td>344111</td>\n",
              "      <td>2026555</td>\n",
              "      <td>550320</td>\n",
              "      <td>2968341</td>\n",
              "      <td>1484610</td>\n",
              "      <td>1068849</td>\n",
              "      <td>92766.0</td>\n",
              "      <td>281914</td>\n",
              "      <td>1</td>\n",
              "      <td>0</td>\n",
              "    </tr>\n",
              "  </tbody>\n",
              "</table>\n",
              "</div>"
            ],
            "text/plain": [
              "   STATE  AVG_SCORE  TEST_YEAR    ENROLL  TOTAL_REVENUE  FEDERAL_REVENUE  \\\n",
              "0      1   230.9774          4  734974.0        7360222           795238   \n",
              "1      1   266.5553          8  734974.0        7360222           795238   \n",
              "2      1   217.0491          4  734974.0        7360222           795238   \n",
              "3      1   258.7538          8  734974.0        7360222           795238   \n",
              "4      2   236.3284          4  130755.0        2920986           344111   \n",
              "\n",
              "   STATE_REVENUE  LOCAL_REVENUE  TOTAL_EXPENDITURE  INSTRUCTION_EXPENDITURE  \\\n",
              "0        4080167        2484817            7501799                  3817479   \n",
              "1        4080167        2484817            7501799                  3817479   \n",
              "2        4080167        2484817            7501799                  3817479   \n",
              "3        4080167        2484817            7501799                  3817479   \n",
              "4        2026555         550320            2968341                  1484610   \n",
              "\n",
              "   SUPPORT_SERVICES_EXPENDITURE  OTHER_EXPENDITURE  \\\n",
              "0                       2414860           594283.0   \n",
              "1                       2414860           594283.0   \n",
              "2                       2414860           594283.0   \n",
              "3                       2414860           594283.0   \n",
              "4                       1068849            92766.0   \n",
              "\n",
              "   CAPITAL_OUTLAY_EXPENDITURE  TEST_SUBJECT_Mathematics  TEST_SUBJECT_Reading  \n",
              "0                      510091                         1                     0  \n",
              "1                      510091                         1                     0  \n",
              "2                      510091                         0                     1  \n",
              "3                      510091                         0                     1  \n",
              "4                      281914                         1                     0  "
            ]
          },
          "metadata": {
            "tags": []
          },
          "execution_count": 240
        }
      ]
    },
    {
      "cell_type": "code",
      "metadata": {
        "id": "zvJnP-V8y5-y"
      },
      "source": [
        ""
      ],
      "execution_count": 222,
      "outputs": []
    },
    {
      "cell_type": "code",
      "metadata": {
        "id": "pS5IwWtHcHgZ"
      },
      "source": [
        "target = 'AVG_SCORE'\n",
        "y = df[target]\n",
        "X = df.drop(target, axis=1)"
      ],
      "execution_count": 273,
      "outputs": []
    },
    {
      "cell_type": "code",
      "metadata": {
        "id": "rl7VU-Ic4btJ"
      },
      "source": [
        "X_train, X_test,y_train,y_test = train_test_split(X,y,test_size =0.25, random_state=42)"
      ],
      "execution_count": 242,
      "outputs": []
    },
    {
      "cell_type": "code",
      "metadata": {
        "id": "JRxDbbI9PSFT",
        "outputId": "b28c7b3c-b627-4841-91cc-c098b11f9db0",
        "colab": {
          "base_uri": "https://localhost:8080/",
          "height": 298
        }
      },
      "source": [
        "sns.scatterplot(data=df, x='TOTAL_REVENUE', y='AVG_SCORE')\n",
        "plt.show"
      ],
      "execution_count": 284,
      "outputs": [
        {
          "output_type": "execute_result",
          "data": {
            "text/plain": [
              "<function matplotlib.pyplot.show>"
            ]
          },
          "metadata": {
            "tags": []
          },
          "execution_count": 284
        },
        {
          "output_type": "display_data",
          "data": {
            "image/png": "[encoded data removed]",
            "text/plain": [
              "<Figure size 432x288 with 1 Axes>"
            ]
          },
          "metadata": {
            "tags": [],
            "needs_background": "light"
          }
        }
      ]
    },
    {
      "cell_type": "code",
      "metadata": {
        "id": "vzkvHnC_0ABp"
      },
      "source": [
        "#training data between 2003 - 2007\n",
        "#train_mask = X.index < 2008\n",
        "#X_train, y_train = X.loc[train_mask], y.loc[train_mask]\n",
        "\n",
        "# validation data during between 2009 and 2013\n",
        "#val_mask = (df.index <= 2013) & (df.index >= 2009)\n",
        "#X_val, y_val = X.loc[val_mask], y.loc[val_mask]\n",
        "\n",
        "# test data for year 2015\n",
        "#test_mask = X.index >= 2014\n",
        "#X_test, y_test = X.loc[test_mask], y.loc[test_mask]"
      ],
      "execution_count": 225,
      "outputs": []
    },
    {
      "cell_type": "code",
      "metadata": {
        "id": "IBilByo4NzSv",
        "outputId": "edae8297-341a-4bd2-ce2d-6bbf4415a3b5",
        "colab": {
          "base_uri": "https://localhost:8080/"
        }
      },
      "source": [
        "model = ols('AVG_SCORE ~ TOTAL_REVENUE', data=df).fit()\n",
        "intercept = model.params[0]\n",
        "slope = model.params[1]\n",
        "print(model.summary())"
      ],
      "execution_count": 262,
      "outputs": [
        {
          "output_type": "stream",
          "text": [
            "                            OLS Regression Results                            \n",
            "==============================================================================\n",
            "Dep. Variable:              AVG_SCORE   R-squared:                       0.000\n",
            "Model:                            OLS   Adj. R-squared:                 -0.001\n",
            "Method:                 Least Squares   F-statistic:                   0.05891\n",
            "Date:                Tue, 20 Jul 2021   Prob (F-statistic):              0.808\n",
            "Time:                        18:44:36   Log-Likelihood:                -6586.4\n",
            "No. Observations:                1428   AIC:                         1.318e+04\n",
            "Df Residuals:                    1426   BIC:                         1.319e+04\n",
            "Df Model:                           1                                         \n",
            "Covariance Type:            nonrobust                                         \n",
            "=================================================================================\n",
            "                    coef    std err          t      P>|t|      [0.025      0.975]\n",
            "---------------------------------------------------------------------------------\n",
            "Intercept       250.7105      0.835    300.336      0.000     249.073     252.348\n",
            "TOTAL_REVENUE  1.152e-08   4.75e-08      0.243      0.808   -8.16e-08    1.05e-07\n",
            "==============================================================================\n",
            "Omnibus:                     1021.686   Durbin-Watson:                   3.427\n",
            "Prob(Omnibus):                  0.000   Jarque-Bera (JB):               84.405\n",
            "Skew:                          -0.020   Prob(JB):                     4.70e-19\n",
            "Kurtosis:                       1.810   Cond. No.                     2.27e+07\n",
            "==============================================================================\n",
            "\n",
            "Warnings:\n",
            "[1] Standard Errors assume that the covariance matrix of the errors is correctly specified.\n",
            "[2] The condition number is large, 2.27e+07. This might indicate that there are\n",
            "strong multicollinearity or other numerical problems.\n"
          ],
          "name": "stdout"
        }
      ]
    },
    {
      "cell_type": "code",
      "metadata": {
        "colab": {
          "base_uri": "https://localhost:8080/"
        },
        "id": "N-CLpdZK9_wZ",
        "outputId": "94104b02-4617-459f-8ea3-47390a30a5be"
      },
      "source": [
        "clf = LinearRegression()\n",
        "clf.fit(X_train, y_train)"
      ],
      "execution_count": 243,
      "outputs": [
        {
          "output_type": "execute_result",
          "data": {
            "text/plain": [
              "LinearRegression(copy_X=True, fit_intercept=True, n_jobs=None, normalize=False)"
            ]
          },
          "metadata": {
            "tags": []
          },
          "execution_count": 243
        }
      ]
    },
    {
      "cell_type": "code",
      "metadata": {
        "id": "alcMlaxTKez_",
        "outputId": "60080e82-6cb3-4736-b653-da914d204b99",
        "colab": {
          "base_uri": "https://localhost:8080/"
        }
      },
      "source": [
        "y_pred = clf.predict(X_test)\n",
        "y_pred"
      ],
      "execution_count": 249,
      "outputs": [
        {
          "output_type": "execute_result",
          "data": {
            "text/plain": [
              "array([274.87419896, 279.40312599, 224.12803893, 261.69449497,\n",
              "       280.53261519, 280.88860146, 237.52481303, 263.95676935,\n",
              "       219.27059438, 218.10075597, 247.232636  , 219.62408585,\n",
              "       219.53674357, 219.80513889, 220.11677828, 220.97999393,\n",
              "       218.57275219, 221.07948354, 220.03157835, 262.50175641,\n",
              "       262.02126009, 220.21074374, 237.26351414, 268.97479616,\n",
              "       239.23827771, 241.24567513, 240.31725073, 221.71086798,\n",
              "       280.57036421, 219.90690436, 263.08973931, 281.55246375,\n",
              "       264.62814643, 236.40516147, 262.17610575, 219.66152561,\n",
              "       237.68054889, 222.13049296, 281.7767534 , 221.08052001,\n",
              "       282.60806163, 235.92947345, 220.37430728, 236.57938339,\n",
              "       268.64793663, 259.16330132, 281.63206341, 283.65497072,\n",
              "       238.57596071, 219.43078812, 260.21841956, 280.66055058,\n",
              "       285.77694207, 279.62650738, 280.3035993 , 220.38151537,\n",
              "       262.031327  , 237.99568827, 222.17460224, 238.54030954,\n",
              "       221.34992666, 219.74226422, 279.74366283, 236.23980185,\n",
              "       260.46413715, 260.47233307, 238.59196731, 237.01099601,\n",
              "       281.8985997 , 281.29035397, 280.74081918, 265.0449975 ,\n",
              "       238.1318326 , 281.69225653, 222.04416176, 265.43603842,\n",
              "       281.90271618, 250.36667051, 220.63815584, 263.45085422,\n",
              "       261.67663084, 281.82016726, 284.36719488, 260.68488951,\n",
              "       229.04434247, 220.48116839, 223.75678393, 266.53714443,\n",
              "       282.97133444, 263.06974719, 218.08100768, 280.53292445,\n",
              "       279.52602075, 282.10811776, 282.25876525, 279.56206077,\n",
              "       220.85992465, 260.49517046, 220.41511932, 231.1454063 ,\n",
              "       236.55023398, 235.63881444, 262.5753881 , 262.71577436,\n",
              "       278.37721373, 223.23461955, 280.19873671, 281.35332925,\n",
              "       236.82629417, 262.40864472, 263.94932359, 262.93289072,\n",
              "       280.18005426, 281.66040508, 218.73458847, 236.28418863,\n",
              "       262.18195881, 263.50161091, 220.51754729, 281.02561688,\n",
              "       246.89825028, 262.51127292, 218.0323582 , 261.22416475,\n",
              "       237.60347767, 263.60996907, 279.64176883, 218.19858515,\n",
              "       238.92058777, 282.49912905, 285.03687752, 263.09284748,\n",
              "       238.85960396, 220.35287789, 281.39000698, 240.38948277,\n",
              "       279.62632865, 281.36807573, 263.05501025, 220.48082172,\n",
              "       293.11671493, 239.03157784, 239.01871882, 261.8864197 ,\n",
              "       280.33962672, 218.71766878, 281.60519313, 283.28875474,\n",
              "       263.55121801, 235.87288689, 219.58662208, 261.58486866,\n",
              "       237.90841595, 263.16350023, 281.05552528, 238.55742758,\n",
              "       262.96078817, 220.72322481, 238.9563319 , 219.95914021,\n",
              "       222.28115873, 218.94445054, 278.52007494, 279.49584689,\n",
              "       220.77443852, 263.23086615, 220.1828463 , 235.17066724,\n",
              "       283.28554938, 279.42784011, 238.51256627, 262.11606328,\n",
              "       261.47834209, 282.75202132, 238.80241932, 282.1114784 ,\n",
              "       219.28428583, 220.70080979, 263.10381653, 218.90299737,\n",
              "       264.21790612, 262.03433026, 261.61054266, 261.44478913,\n",
              "       265.07623291, 280.38886502, 280.64291102, 236.09363925,\n",
              "       282.76686273, 219.82534368, 254.55813907, 220.5016169 ,\n",
              "       221.00819643, 237.98788277, 220.79753773, 221.85659483,\n",
              "       222.6049753 , 279.61744697, 263.6567195 , 262.89224276,\n",
              "       260.84269581, 238.11211821, 280.81851765, 263.30034828,\n",
              "       219.75711932, 218.86049824, 227.71770488, 280.90839938,\n",
              "       263.39366958, 219.65462747, 266.75695402, 236.53739929,\n",
              "       237.29516944, 280.62458199, 237.58958229, 240.28928713,\n",
              "       238.06346074, 249.42730723, 262.26302799, 283.22939021,\n",
              "       219.75336608, 223.08688096, 282.17171133, 280.81574296,\n",
              "       238.47849694, 263.49698352, 239.7061736 , 215.89037633,\n",
              "       238.93323269, 220.17011387, 220.2605828 , 279.28744371,\n",
              "       281.41844525, 219.97976286, 268.68987779, 220.48071113,\n",
              "       237.64821318, 285.53529235, 262.26857973, 238.11793438,\n",
              "       238.31716348, 263.12435171, 238.41937697, 227.68682115,\n",
              "       219.42606133, 219.83198059, 264.60663926, 263.33260542,\n",
              "       280.66595791, 261.4586528 , 278.25172103, 263.07481814,\n",
              "       260.87543888, 269.11940015, 237.85405935, 281.32600514,\n",
              "       262.73660465, 280.81350517, 220.14668668, 280.34075298,\n",
              "       279.64342707, 262.79836111, 219.65611855, 220.55030385,\n",
              "       279.71904802, 219.14219723, 262.78162277, 224.29226162,\n",
              "       260.49450737, 281.63665644, 279.462912  , 239.50872083,\n",
              "       281.49139959, 238.51167206, 238.83787815, 278.38885887,\n",
              "       280.67006709, 220.29600192, 250.81600199, 225.93983336,\n",
              "       262.70336847, 286.10967397, 238.53392047, 279.02576527,\n",
              "       237.25123117, 220.44449065, 220.79388402, 263.83056444,\n",
              "       263.47326924, 219.4446835 , 238.66840082, 263.60090096,\n",
              "       240.21853371, 281.63702435, 261.36722658, 237.44730556,\n",
              "       274.95792076, 208.06595756, 283.2939009 , 220.67908398,\n",
              "       220.73145051, 237.91050615, 275.21383813, 281.33408463,\n",
              "       262.59903882, 264.01084746, 266.50682835, 239.35807334,\n",
              "       220.91132866, 236.81227799, 262.50055254, 221.49019284,\n",
              "       220.12862114, 288.59565975, 252.60436768, 215.93412838,\n",
              "       281.2839649 , 244.71327665, 281.75969513, 262.87866556,\n",
              "       218.94347862, 262.70918464, 262.69042044, 259.7619175 ,\n",
              "       218.12539446, 238.70909802, 265.46151218, 238.15835496,\n",
              "       281.26037483, 217.74446295, 281.42638589, 264.98073303,\n",
              "       219.36454008, 226.29538139, 219.98918237, 237.74541625,\n",
              "       238.70591091, 262.50716374, 281.65577769, 217.70275249,\n",
              "       265.49617655, 280.70286312, 236.92558584, 219.43191439,\n",
              "       240.22129001, 259.60537495, 279.10742375, 241.39341372,\n",
              "       221.99171736, 280.30368123, 238.13855703, 218.75337586,\n",
              "       237.34416369, 239.71196399, 280.65846038, 261.713986  ,\n",
              "       263.23121281])"
            ]
          },
          "metadata": {
            "tags": []
          },
          "execution_count": 249
        }
      ]
    },
    {
      "cell_type": "code",
      "metadata": {
        "id": "H-gfLUq0MLUh",
        "outputId": "6f932ceb-b5a9-4c63-c01e-4bbc2d7439f3",
        "colab": {
          "base_uri": "https://localhost:8080/"
        }
      },
      "source": [
        "clf.score(X_test, y_test)"
      ],
      "execution_count": 259,
      "outputs": [
        {
          "output_type": "execute_result",
          "data": {
            "text/plain": [
              "0.9386130884493306"
            ]
          },
          "metadata": {
            "tags": []
          },
          "execution_count": 259
        }
      ]
    },
    {
      "cell_type": "code",
      "metadata": {
        "id": "2uZ1Fawl3ySQ",
        "outputId": "326f458d-6764-49c4-f54a-7785adf4b7c6",
        "colab": {
          "base_uri": "https://localhost:8080/"
        }
      },
      "source": [
        "RMS = mean_squared_error(y_test, y_pred)\n",
        "RMS"
      ],
      "execution_count": 255,
      "outputs": [
        {
          "output_type": "execute_result",
          "data": {
            "text/plain": [
              "37.39839168957875"
            ]
          },
          "metadata": {
            "tags": []
          },
          "execution_count": 255
        }
      ]
    },
    {
      "cell_type": "code",
      "metadata": {
        "id": "lnwLLhQW30Dp",
        "outputId": "30d33972-070d-448c-f9a7-ab8b866464c4",
        "colab": {
          "base_uri": "https://localhost:8080/"
        }
      },
      "source": [
        "y_test"
      ],
      "execution_count": 258,
      "outputs": [
        {
          "output_type": "execute_result",
          "data": {
            "text/plain": [
              "123     270.8537\n",
              "1189    270.5246\n",
              "462     219.3575\n",
              "351     261.9315\n",
              "1009    270.0841\n",
              "665     282.4314\n",
              "756     236.7810\n",
              "527     272.0786\n",
              "70      228.0552\n",
              "554     215.4776\n",
              "332     240.3498\n",
              "994     221.2614\n",
              "1182    213.2035\n",
              "1066    209.5788\n",
              "310     222.9827\n",
              "1306    218.6738\n",
              "218     218.5239\n",
              "78      223.7286\n",
              "270     223.3864\n",
              "51      268.5535\n",
              "67      266.7655\n",
              "370     217.9307\n",
              "1164    233.9553\n",
              "629     270.4486\n",
              "76      242.2447\n",
              "344     245.5498\n",
              "184     246.6126\n",
              "798     226.5276\n",
              "1213    269.0995\n",
              "862     213.4966\n",
              "163     260.3314\n",
              "1097    281.0585\n",
              "1251    267.2181\n",
              "736     230.0296\n",
              "963     259.5472\n",
              "1214    214.7671\n",
              "44      237.8958\n",
              "198     223.3564\n",
              "1317    290.6801\n",
              "1138    227.4383\n",
              "1013    285.6179\n",
              "852     242.0203\n",
              "1222    223.2621\n",
              "1092    230.2312\n",
              "1379    264.2674\n",
              "339     264.5410\n",
              "29      279.8102\n",
              "901     297.9233\n",
              "1080    239.8808\n",
              "382     222.7676\n",
              "651     264.3620\n",
              "49      283.7423\n",
              "741     282.5769\n",
              "613     268.5241\n",
              "745     284.3326\n",
              "814     222.6522\n",
              "415     261.2853\n",
              "1276    232.8568\n",
              "874     221.6731\n",
              "812     242.0092\n",
              "1114    225.2266\n",
              "806     214.5202\n",
              "885     278.7047\n",
              "824     231.9369\n",
              "247     264.6157\n",
              "1063    256.8724\n",
              "1128    237.7062\n",
              "1320    222.8906\n",
              "1161    283.2518\n",
              "813     286.1040\n",
              "1133    269.9056\n",
              "1047    264.0128\n",
              "192     235.2047\n",
              "1205    284.3716\n",
              "898     224.7813\n",
              "843     267.0557\n",
              "101     280.8214\n",
              "764     243.5879\n",
              "566     222.4816\n",
              "1383    260.8796\n",
              "1023    251.9784\n",
              "1169    282.2373\n",
              "289     300.5682\n",
              "599     267.5775\n",
              "1240    227.4550\n",
              "354     219.1327\n",
              "1036    230.3670\n",
              "231     274.4595\n",
              "297     294.5930\n",
              "839     266.4079\n",
              "826     209.5206\n",
              "993     281.0875\n",
              "1029    274.3051\n",
              "1149    279.7163\n",
              "1113    290.0750\n",
              "497     280.1765\n",
              "590     226.7716\n",
              "43      262.2686\n",
              "594     226.3784\n",
              "358     226.4023\n",
              "1088    231.4923\n",
              "220     233.6545\n",
              "931     252.3485\n",
              "1271    251.2848\n",
              "649     279.3353\n",
              "638     228.9721\n",
              "453     277.8362\n",
              "1361    287.1446\n",
              "168     240.6674\n",
              "867     264.8863\n",
              "1151    265.1386\n",
              "439     265.8395\n",
              "65      283.8711\n",
              "237     265.2594\n",
              "622     209.9893\n",
              "532     232.8404\n",
              "619     259.4494\n",
              "239     247.7392\n",
              "486     222.0373\n",
              "309     289.2285\n",
              "528     248.0042\n",
              "115     259.4174\n",
              "374     219.7354\n",
              "711     251.3057\n",
              "208     236.1220\n",
              "591     273.8408\n",
              "1005    284.8628\n",
              "858     218.8882\n",
              "32      231.3075\n",
              "605     288.6659\n",
              "461     283.2281\n",
              "471     264.5545\n",
              "1380    230.2980\n",
              "714     223.8424\n",
              "353     283.5246\n",
              "432     242.4134\n",
              "277     272.7610\n",
              "233     282.3383\n",
              "367     261.4491\n",
              "1410    223.3404\n",
              "765     288.3042\n",
              "792     247.7672\n",
              "588     246.6397\n",
              "819     251.9369\n",
              "381     284.3315\n",
              "614     216.2734\n",
              "261     287.7677\n",
              "701     278.2682\n",
              "63      268.2006\n",
              "244     240.0472\n",
              "774     215.9423\n",
              "887     261.9660\n",
              "660     241.0428\n",
              "203     268.8034\n",
              "777     290.6191\n",
              "1424    241.0857\n",
              "371     268.1008\n",
              "30      223.6987\n",
              "56      247.6522\n",
              "1330    222.7465\n",
              "754     224.5322\n",
              "350     216.9889\n",
              "477     281.6088\n",
              "1145    263.2752\n",
              "894     225.5440\n",
              "1411    268.0048\n",
              "438     225.1305\n",
              "240     241.6758\n",
              "493     298.5124\n",
              "781     274.7618\n",
              "1364    237.7821\n",
              "759     259.4958\n",
              "99      251.9762\n",
              "997     291.0108\n",
              "1096    240.6915\n",
              "933     287.5571\n",
              "570     214.8998\n",
              "1382    216.4940\n",
              "1367    266.5661\n",
              "682     225.6062\n",
              "1075    263.5170\n",
              "571     260.3070\n",
              "275     269.6165\n",
              "303     253.1478\n",
              "1107    273.7161\n",
              "1401    280.6454\n",
              "677     288.5964\n",
              "596     243.1829\n",
              "1001    287.6259\n",
              "930     210.8190\n",
              "447     262.1214\n",
              "722     222.5233\n",
              "906     220.1185\n",
              "316     236.2629\n",
              "58      227.2789\n",
              "1110    218.2607\n",
              "990     219.6043\n",
              "941     267.5381\n",
              "23      268.0732\n",
              "107     269.9568\n",
              "411     258.4211\n",
              "724     235.1523\n",
              "513     292.9078\n",
              "1423    266.4686\n",
              "1418    219.1795\n",
              "274     224.4275\n",
              "938     230.6470\n",
              "809     288.1407\n",
              "1099    269.9834\n",
              "522     212.5752\n",
              "947     263.5457\n",
              "1208    241.6847\n",
              "816     228.5200\n",
              "1273    279.9393\n",
              "380     242.8207\n",
              "196     243.3102\n",
              "428     244.4561\n",
              "128     236.7969\n",
              "1199    261.8709\n",
              "81      283.1490\n",
              "1338    206.9597\n",
              "346     223.8877\n",
              "1101    277.9308\n",
              "861     268.7720\n",
              "836     240.2059\n",
              "111     269.4262\n",
              "1216    240.5686\n",
              "1262    218.0145\n",
              "892     242.3706\n",
              "1390    222.2732\n",
              "1042    223.6561\n",
              "1209    285.0522\n",
              "925     283.6506\n",
              "666     219.1658\n",
              "175     260.6551\n",
              "342     224.0834\n",
              "624     237.5406\n",
              "141     285.0620\n",
              "823     258.7985\n",
              "1328    235.7549\n",
              "464     243.8369\n",
              "1223    268.1242\n",
              "1040    239.2159\n",
              "1174    222.7720\n",
              "962     216.9557\n",
              "1134    207.1870\n",
              "1111    261.1385\n",
              "1303    268.3233\n",
              "1417    270.7704\n",
              "943     250.7532\n",
              "481     272.8433\n",
              "1335    266.3137\n",
              "535     255.8616\n",
              "259     266.8987\n",
              "548     244.0386\n",
              "1081    283.8109\n",
              "1127    269.2241\n",
              "429     291.7427\n",
              "778     222.1666\n",
              "617     283.0477\n",
              "621     277.3323\n",
              "923     270.9378\n",
              "254     219.3030\n",
              "1422    220.8334\n",
              "1225    261.9390\n",
              "762     218.1423\n",
              "271     266.8875\n",
              "86      235.2754\n",
              "1355    265.3298\n",
              "265     285.0701\n",
              "1413    281.1514\n",
              "1112    245.7462\n",
              "1301    281.9038\n",
              "712     240.6844\n",
              "668     242.6168\n",
              "221     275.9014\n",
              "113     275.1719\n",
              "1282    220.4065\n",
              "631     252.6314\n",
              "174     217.9429\n",
              "727     253.8410\n",
              "1345    281.4071\n",
              "1120    235.0355\n",
              "949     283.8807\n",
              "1292    228.7263\n",
              "1362    221.6422\n",
              "306     222.3342\n",
              "1139    269.6513\n",
              "31      262.6133\n",
              "210     209.3473\n",
              "924     238.0408\n",
              "363     266.6771\n",
              "908     246.9978\n",
              "849     248.1987\n",
              "1031    254.7879\n",
              "188     244.9814\n",
              "767     270.7005\n",
              "630     209.7624\n",
              "377     288.1990\n",
              "670     222.6595\n",
              "1178    216.4399\n",
              "48      238.7996\n",
              "155     268.7461\n",
              "845     282.9921\n",
              "1087    266.8312\n",
              "1287    267.5048\n",
              "1037    268.5581\n",
              "1148    238.1740\n",
              "1170    216.9000\n",
              "1032    235.5455\n",
              "179     269.4307\n",
              "322     231.9984\n",
              "1186    222.3987\n",
              "1173    280.7138\n",
              "427     254.9352\n",
              "1058    219.4652\n",
              "1121    276.4499\n",
              "1140    243.9789\n",
              "361     284.0922\n",
              "1187    268.5404\n",
              "538     222.4938\n",
              "1331    269.8334\n",
              "575     268.9415\n",
              "243     265.8283\n",
              "534     208.0141\n",
              "1420    236.7554\n",
              "695     267.2981\n",
              "808     243.5853\n",
              "917     280.6195\n",
              "1354    222.1882\n",
              "485     288.7323\n",
              "435     274.6814\n",
              "1026    211.0613\n",
              "54      222.0223\n",
              "1326    222.2602\n",
              "772     235.6683\n",
              "312     243.1579\n",
              "1419    259.5642\n",
              "109     286.4986\n",
              "506     209.1880\n",
              "903     273.2840\n",
              "977     281.5036\n",
              "1236    229.0066\n",
              "618     211.1274\n",
              "296     253.4210\n",
              "451     262.3586\n",
              "857     274.7787\n",
              "636     244.7177\n",
              "286     232.0560\n",
              "1373    280.8925\n",
              "664     238.2857\n",
              "126     207.2404\n",
              "828     237.6707\n",
              "292     236.8198\n",
              "661     287.3052\n",
              "1399    258.7773\n",
              "355     268.2827\n",
              "Name: AVG_SCORE, dtype: float64"
            ]
          },
          "metadata": {
            "tags": []
          },
          "execution_count": 258
        }
      ]
    },
    {
      "cell_type": "code",
      "metadata": {
        "id": "YuSiwIzu34zv"
      },
      "source": [
        ""
      ],
      "execution_count": 227,
      "outputs": []
    },
    {
      "cell_type": "code",
      "metadata": {
        "id": "z-iEdQFa1me9"
      },
      "source": [
        ""
      ],
      "execution_count": 227,
      "outputs": []
    }
  ]
}