{
  "nbformat": 4,
  "nbformat_minor": 0,
  "metadata": {
    "colab": {
      "name": "Jackson Reber Build Week Project .ipynb",
      "provenance": [],
      "collapsed_sections": [],
      "authorship_tag": "ABX9TyM4MjNDtZyUAAuyJ328nTPQ",
      "include_colab_link": true
    },
    "kernelspec": {
      "name": "python3",
      "display_name": "Python 3"
    },
    "language_info": {
      "name": "python"
    }
  },
  "cells": [
    {
      "cell_type": "markdown",
      "metadata": {
        "id": "view-in-github",
        "colab_type": "text"
      },
      "source": [
        "<a href=\"https://colab.research.google.com/github/JacksonReber/BuildWeek/blob/master/Jackson_Reber_Build_Week_Project_.ipynb\" target=\"_parent\"><img src=\"https://colab.research.google.com/assets/colab-badge.svg\" alt=\"Open In Colab\"/></a>"
      ]
    },
    {
      "cell_type": "code",
      "metadata": {
        "id": "xH7Mhw_7gxez",
        "colab": {
          "base_uri": "https://localhost:8080/"
        },
        "outputId": "f5f76892-a91a-400c-c096-53bf925f8dca"
      },
      "source": [
        "import matplotlib.pyplot as plt\n",
        "import seaborn as sns\n",
        "import pandas as pd\n",
        "import numpy as np\n",
        "pd.options.display.max_rows = 1000\n",
        "pd.options.display.max_columns = 1000\n",
        "from sklearn.model_selection import train_test_split, RandomizedSearchCV\n",
        "from sklearn.linear_model import LinearRegression\n",
        "from sklearn.preprocessing import OneHotEncoder\n",
        "from sklearn import metrics\n",
        "from sklearn.metrics import mean_squared_error\n",
        "import math\n",
        "from statsmodels.formula.api import ols\n",
        "from pandas_profiling import ProfileReport\n",
        "from sklearn.pipeline import make_pipeline\n",
        "from sklearn.preprocessing import StandardScaler\n",
        "from sklearn.impute import SimpleImputer\n",
        "from sklearn.linear_model import LogisticRegression\n",
        "from sklearn.metrics import accuracy_score\n",
        "from sklearn.tree import DecisionTreeClassifier, plot_tree\n",
        "from sklearn.preprocessing import LabelEncoder\n",
        "!pip install category_encoders==2.*\n",
        "from category_encoders import OrdinalEncoder\n",
        "from sklearn.ensemble import RandomForestClassifier\n",
        "from xgboost import XGBClassifier\n",
        "from sklearn.inspection import permutation_importance"
      ],
      "execution_count": 410,
      "outputs": [
        {
          "output_type": "stream",
          "text": [
            "Requirement already satisfied: category_encoders==2.* in /usr/local/lib/python3.7/dist-packages (2.2.2)\n",
            "Requirement already satisfied: pandas>=0.21.1 in /usr/local/lib/python3.7/dist-packages (from category_encoders==2.*) (1.1.5)\n",
            "Requirement already satisfied: numpy>=1.14.0 in /usr/local/lib/python3.7/dist-packages (from category_encoders==2.*) (1.19.5)\n",
            "Requirement already satisfied: patsy>=0.5.1 in /usr/local/lib/python3.7/dist-packages (from category_encoders==2.*) (0.5.1)\n",
            "Requirement already satisfied: statsmodels>=0.9.0 in /usr/local/lib/python3.7/dist-packages (from category_encoders==2.*) (0.10.2)\n",
            "Requirement already satisfied: scipy>=1.0.0 in /usr/local/lib/python3.7/dist-packages (from category_encoders==2.*) (1.4.1)\n",
            "Requirement already satisfied: scikit-learn>=0.20.0 in /usr/local/lib/python3.7/dist-packages (from category_encoders==2.*) (0.22.2.post1)\n",
            "Requirement already satisfied: pytz>=2017.2 in /usr/local/lib/python3.7/dist-packages (from pandas>=0.21.1->category_encoders==2.*) (2018.9)\n",
            "Requirement already satisfied: python-dateutil>=2.7.3 in /usr/local/lib/python3.7/dist-packages (from pandas>=0.21.1->category_encoders==2.*) (2.8.1)\n",
            "Requirement already satisfied: six in /usr/local/lib/python3.7/dist-packages (from patsy>=0.5.1->category_encoders==2.*) (1.15.0)\n",
            "Requirement already satisfied: joblib>=0.11 in /usr/local/lib/python3.7/dist-packages (from scikit-learn>=0.20.0->category_encoders==2.*) (1.0.1)\n"
          ],
          "name": "stdout"
        }
      ]
    },
    {
      "cell_type": "code",
      "metadata": {
        "id": "BHTsvzwGg6SU"
      },
      "source": [
        "#Reading in the data frame\n",
        "df = pd.read_csv('StudentsPerformance.csv')\n",
        "#Wrangle function\n",
        "def wrangle(df):\n",
        "  #creating a new column called \"Average Test Scores\" which averages the 3 test scores \n",
        "  #df['Average_Test_Scores'] = df[['math score', 'reading score', 'writing score']].mean(axis=1)\n",
        "  #Dropping the individual test scores\n",
        "  #df.drop(['math score', 'writing score', 'reading score'],axis = 1, inplace=True)\n",
        "  df.loc[df['parental level of education'] == \"some high school\", 'parental level of education'] = 0\n",
        "  df.loc[df['parental level of education'] == \"high school\", 'parental level of education'] = 1\n",
        "  df.loc[df['parental level of education'] == \"some college\", 'parental level of education'] = 2\n",
        "  df.loc[df['parental level of education'] == \"associate's degree\", 'parental level of education'] = 3\n",
        "  df.loc[df['parental level of education'] == \"bachelor's degree\", 'parental level of education'] = 4\n",
        "  df.loc[df['parental level of education'] == \"master's degree\", 'parental level of education'] = 5\n",
        "  df['parental level of education'] = df['parental level of education'].astype(int)\n",
        "  return df\n",
        "df = wrangle(df)"
      ],
      "execution_count": 411,
      "outputs": []
    },
    {
      "cell_type": "code",
      "metadata": {
        "colab": {
          "base_uri": "https://localhost:8080/",
          "height": 205
        },
        "id": "D62CvXo7DLzt",
        "outputId": "172679de-9191-45e1-9b4c-0912c2547321"
      },
      "source": [
        "df.head()"
      ],
      "execution_count": 412,
      "outputs": [
        {
          "output_type": "execute_result",
          "data": {
            "text/html": [
              "<div>\n",
              "<style scoped>\n",
              "    .dataframe tbody tr th:only-of-type {\n",
              "        vertical-align: middle;\n",
              "    }\n",
              "\n",
              "    .dataframe tbody tr th {\n",
              "        vertical-align: top;\n",
              "    }\n",
              "\n",
              "    .dataframe thead th {\n",
              "        text-align: right;\n",
              "    }\n",
              "</style>\n",
              "<table border=\"1\" class=\"dataframe\">\n",
              "  <thead>\n",
              "    <tr style=\"text-align: right;\">\n",
              "      <th></th>\n",
              "      <th>gender</th>\n",
              "      <th>race/ethnicity</th>\n",
              "      <th>parental level of education</th>\n",
              "      <th>lunch</th>\n",
              "      <th>test preparation course</th>\n",
              "      <th>math score</th>\n",
              "      <th>reading score</th>\n",
              "      <th>writing score</th>\n",
              "    </tr>\n",
              "  </thead>\n",
              "  <tbody>\n",
              "    <tr>\n",
              "      <th>0</th>\n",
              "      <td>female</td>\n",
              "      <td>group B</td>\n",
              "      <td>4</td>\n",
              "      <td>standard</td>\n",
              "      <td>none</td>\n",
              "      <td>72</td>\n",
              "      <td>72</td>\n",
              "      <td>74</td>\n",
              "    </tr>\n",
              "    <tr>\n",
              "      <th>1</th>\n",
              "      <td>female</td>\n",
              "      <td>group C</td>\n",
              "      <td>2</td>\n",
              "      <td>standard</td>\n",
              "      <td>completed</td>\n",
              "      <td>69</td>\n",
              "      <td>90</td>\n",
              "      <td>88</td>\n",
              "    </tr>\n",
              "    <tr>\n",
              "      <th>2</th>\n",
              "      <td>female</td>\n",
              "      <td>group B</td>\n",
              "      <td>5</td>\n",
              "      <td>standard</td>\n",
              "      <td>none</td>\n",
              "      <td>90</td>\n",
              "      <td>95</td>\n",
              "      <td>93</td>\n",
              "    </tr>\n",
              "    <tr>\n",
              "      <th>3</th>\n",
              "      <td>male</td>\n",
              "      <td>group A</td>\n",
              "      <td>3</td>\n",
              "      <td>free/reduced</td>\n",
              "      <td>none</td>\n",
              "      <td>47</td>\n",
              "      <td>57</td>\n",
              "      <td>44</td>\n",
              "    </tr>\n",
              "    <tr>\n",
              "      <th>4</th>\n",
              "      <td>male</td>\n",
              "      <td>group C</td>\n",
              "      <td>2</td>\n",
              "      <td>standard</td>\n",
              "      <td>none</td>\n",
              "      <td>76</td>\n",
              "      <td>78</td>\n",
              "      <td>75</td>\n",
              "    </tr>\n",
              "  </tbody>\n",
              "</table>\n",
              "</div>"
            ],
            "text/plain": [
              "   gender race/ethnicity  parental level of education         lunch  \\\n",
              "0  female        group B                            4      standard   \n",
              "1  female        group C                            2      standard   \n",
              "2  female        group B                            5      standard   \n",
              "3    male        group A                            3  free/reduced   \n",
              "4    male        group C                            2      standard   \n",
              "\n",
              "  test preparation course  math score  reading score  writing score  \n",
              "0                    none          72             72             74  \n",
              "1               completed          69             90             88  \n",
              "2                    none          90             95             93  \n",
              "3                    none          47             57             44  \n",
              "4                    none          76             78             75  "
            ]
          },
          "metadata": {
            "tags": []
          },
          "execution_count": 412
        }
      ]
    },
    {
      "cell_type": "code",
      "metadata": {
        "id": "AhjvJf17Dt5e"
      },
      "source": [
        ""
      ],
      "execution_count": 412,
      "outputs": []
    },
    {
      "cell_type": "code",
      "metadata": {
        "colab": {
          "base_uri": "https://localhost:8080/",
          "height": 205
        },
        "id": "blTLOKp22LYN",
        "outputId": "fb555032-225f-4ce5-a471-6344d4ea2ed5"
      },
      "source": [
        "df.head()"
      ],
      "execution_count": 413,
      "outputs": [
        {
          "output_type": "execute_result",
          "data": {
            "text/html": [
              "<div>\n",
              "<style scoped>\n",
              "    .dataframe tbody tr th:only-of-type {\n",
              "        vertical-align: middle;\n",
              "    }\n",
              "\n",
              "    .dataframe tbody tr th {\n",
              "        vertical-align: top;\n",
              "    }\n",
              "\n",
              "    .dataframe thead th {\n",
              "        text-align: right;\n",
              "    }\n",
              "</style>\n",
              "<table border=\"1\" class=\"dataframe\">\n",
              "  <thead>\n",
              "    <tr style=\"text-align: right;\">\n",
              "      <th></th>\n",
              "      <th>gender</th>\n",
              "      <th>race/ethnicity</th>\n",
              "      <th>parental level of education</th>\n",
              "      <th>lunch</th>\n",
              "      <th>test preparation course</th>\n",
              "      <th>math score</th>\n",
              "      <th>reading score</th>\n",
              "      <th>writing score</th>\n",
              "    </tr>\n",
              "  </thead>\n",
              "  <tbody>\n",
              "    <tr>\n",
              "      <th>0</th>\n",
              "      <td>female</td>\n",
              "      <td>group B</td>\n",
              "      <td>4</td>\n",
              "      <td>standard</td>\n",
              "      <td>none</td>\n",
              "      <td>72</td>\n",
              "      <td>72</td>\n",
              "      <td>74</td>\n",
              "    </tr>\n",
              "    <tr>\n",
              "      <th>1</th>\n",
              "      <td>female</td>\n",
              "      <td>group C</td>\n",
              "      <td>2</td>\n",
              "      <td>standard</td>\n",
              "      <td>completed</td>\n",
              "      <td>69</td>\n",
              "      <td>90</td>\n",
              "      <td>88</td>\n",
              "    </tr>\n",
              "    <tr>\n",
              "      <th>2</th>\n",
              "      <td>female</td>\n",
              "      <td>group B</td>\n",
              "      <td>5</td>\n",
              "      <td>standard</td>\n",
              "      <td>none</td>\n",
              "      <td>90</td>\n",
              "      <td>95</td>\n",
              "      <td>93</td>\n",
              "    </tr>\n",
              "    <tr>\n",
              "      <th>3</th>\n",
              "      <td>male</td>\n",
              "      <td>group A</td>\n",
              "      <td>3</td>\n",
              "      <td>free/reduced</td>\n",
              "      <td>none</td>\n",
              "      <td>47</td>\n",
              "      <td>57</td>\n",
              "      <td>44</td>\n",
              "    </tr>\n",
              "    <tr>\n",
              "      <th>4</th>\n",
              "      <td>male</td>\n",
              "      <td>group C</td>\n",
              "      <td>2</td>\n",
              "      <td>standard</td>\n",
              "      <td>none</td>\n",
              "      <td>76</td>\n",
              "      <td>78</td>\n",
              "      <td>75</td>\n",
              "    </tr>\n",
              "  </tbody>\n",
              "</table>\n",
              "</div>"
            ],
            "text/plain": [
              "   gender race/ethnicity  parental level of education         lunch  \\\n",
              "0  female        group B                            4      standard   \n",
              "1  female        group C                            2      standard   \n",
              "2  female        group B                            5      standard   \n",
              "3    male        group A                            3  free/reduced   \n",
              "4    male        group C                            2      standard   \n",
              "\n",
              "  test preparation course  math score  reading score  writing score  \n",
              "0                    none          72             72             74  \n",
              "1               completed          69             90             88  \n",
              "2                    none          90             95             93  \n",
              "3                    none          47             57             44  \n",
              "4                    none          76             78             75  "
            ]
          },
          "metadata": {
            "tags": []
          },
          "execution_count": 413
        }
      ]
    },
    {
      "cell_type": "code",
      "metadata": {
        "colab": {
          "base_uri": "https://localhost:8080/"
        },
        "id": "94aqFZ2OhGd8",
        "outputId": "26e10746-d712-4899-a803-92ded8e323f4"
      },
      "source": [
        "#Checking the shape of the data set\n",
        "df.shape"
      ],
      "execution_count": 414,
      "outputs": [
        {
          "output_type": "execute_result",
          "data": {
            "text/plain": [
              "(1000, 8)"
            ]
          },
          "metadata": {
            "tags": []
          },
          "execution_count": 414
        }
      ]
    },
    {
      "cell_type": "code",
      "metadata": {
        "colab": {
          "base_uri": "https://localhost:8080/"
        },
        "id": "bFSLh0_avyA6",
        "outputId": "1a160949-c208-4de0-bec5-d5c71a3f8f5d"
      },
      "source": [
        "#Checking for any null values in the data set\n",
        "df.isnull().sum()"
      ],
      "execution_count": 415,
      "outputs": [
        {
          "output_type": "execute_result",
          "data": {
            "text/plain": [
              "gender                         0\n",
              "race/ethnicity                 0\n",
              "parental level of education    0\n",
              "lunch                          0\n",
              "test preparation course        0\n",
              "math score                     0\n",
              "reading score                  0\n",
              "writing score                  0\n",
              "dtype: int64"
            ]
          },
          "metadata": {
            "tags": []
          },
          "execution_count": 415
        }
      ]
    },
    {
      "cell_type": "code",
      "metadata": {
        "id": "saHzWlFridEL"
      },
      "source": [
        "#Setting target variable to parental level of education\n",
        "target = 'parental level of education'\n",
        "X = df.drop(target, axis=1)\n",
        "y = df[target]"
      ],
      "execution_count": 416,
      "outputs": []
    },
    {
      "cell_type": "code",
      "metadata": {
        "colab": {
          "base_uri": "https://localhost:8080/",
          "height": 283
        },
        "id": "kLh445m2i5Ru",
        "outputId": "a7e2d080-124d-48e5-f621-c382ca144def"
      },
      "source": [
        "df['parental level of education'].value_counts().plot(kind='barh')"
      ],
      "execution_count": 417,
      "outputs": [
        {
          "output_type": "execute_result",
          "data": {
            "text/plain": [
              "<matplotlib.axes._subplots.AxesSubplot at 0x7fe78e7e4390>"
            ]
          },
          "metadata": {
            "tags": []
          },
          "execution_count": 417
        },
        {
          "output_type": "display_data",
          "data": {
            "image/png": "[encoded data removed]",
            "text/plain": [
              "<Figure size 432x288 with 1 Axes>"
            ]
          },
          "metadata": {
            "tags": [],
            "needs_background": "light"
          }
        }
      ]
    },
    {
      "cell_type": "code",
      "metadata": {
        "id": "qHVFoocvk7Q-"
      },
      "source": [
        "X_train, X_test,y_train,y_test = train_test_split(X,y,test_size =0.2, random_state=42)"
      ],
      "execution_count": 418,
      "outputs": []
    },
    {
      "cell_type": "code",
      "metadata": {
        "colab": {
          "base_uri": "https://localhost:8080/"
        },
        "id": "rVSIaEUc2C52",
        "outputId": "f58b2de5-3cf4-4a8d-8c77-67757b0a3e35"
      },
      "source": [
        "#calculating a baseline accuracy (for class is .value_counts(normalize=True).max())\n",
        "baseline_acc = y_train.value_counts(normalize=True).max()\n",
        "print('Baseline Accuracy Score:', baseline_acc)"
      ],
      "execution_count": 419,
      "outputs": [
        {
          "output_type": "stream",
          "text": [
            "Baseline Accuracy Score: 0.2275\n"
          ],
          "name": "stdout"
        }
      ]
    },
    {
      "cell_type": "code",
      "metadata": {
        "colab": {
          "base_uri": "https://localhost:8080/"
        },
        "id": "8G07QYyQnmKk",
        "outputId": "41c912a7-1a0c-4726-e2dd-991aef05d36b"
      },
      "source": [
        "#making a fast first random forest model that beats guessing\n",
        "#hyper perameter tuning (max depth, n_estimators)\n",
        "rf_model = make_pipeline(OrdinalEncoder(),\n",
        "                           RandomForestClassifier(random_state=42, max_depth = 25, n_estimators=50))\n",
        "#Fitting the logistic regression model\n",
        "rf_model.fit(X_train, y_train)"
      ],
      "execution_count": 420,
      "outputs": [
        {
          "output_type": "execute_result",
          "data": {
            "text/plain": [
              "Pipeline(memory=None,\n",
              "         steps=[('ordinalencoder',\n",
              "                 OrdinalEncoder(cols=['gender', 'race/ethnicity', 'lunch',\n",
              "                                      'test preparation course'],\n",
              "                                drop_invariant=False, handle_missing='value',\n",
              "                                handle_unknown='value',\n",
              "                                mapping=[{'col': 'gender',\n",
              "                                          'data_type': dtype('O'),\n",
              "                                          'mapping': female    1\n",
              "male      2\n",
              "NaN      -2\n",
              "dtype: int64},\n",
              "                                         {'col': 'race/ethnicity',\n",
              "                                          'data_type': dtype('O'),\n",
              "                                          'mapping': group D    1\n",
              "group...\n",
              "                 RandomForestClassifier(bootstrap=True, ccp_alpha=0.0,\n",
              "                                        class_weight=None, criterion='gini',\n",
              "                                        max_depth=25, max_features='auto',\n",
              "                                        max_leaf_nodes=None, max_samples=None,\n",
              "                                        min_impurity_decrease=0.0,\n",
              "                                        min_impurity_split=None,\n",
              "                                        min_samples_leaf=1, min_samples_split=2,\n",
              "                                        min_weight_fraction_leaf=0.0,\n",
              "                                        n_estimators=50, n_jobs=None,\n",
              "                                        oob_score=False, random_state=42,\n",
              "                                        verbose=0, warm_start=False))],\n",
              "         verbose=False)"
            ]
          },
          "metadata": {
            "tags": []
          },
          "execution_count": 420
        }
      ]
    },
    {
      "cell_type": "code",
      "metadata": {
        "colab": {
          "base_uri": "https://localhost:8080/"
        },
        "id": "VhElgI4X2saI",
        "outputId": "49f6e561-3a75-4351-db55-03794923f1c1"
      },
      "source": [
        "#predicting \"average test scores\" with the model\n",
        "y_pred=rf_model.predict(X_test)\n",
        "y_pred"
      ],
      "execution_count": 421,
      "outputs": [
        {
          "output_type": "execute_result",
          "data": {
            "text/plain": [
              "array([3, 0, 3, 4, 3, 2, 1, 3, 0, 1, 0, 2, 1, 0, 3, 2, 2, 0, 2, 0, 3, 0,\n",
              "       2, 1, 3, 2, 2, 0, 0, 0, 1, 0, 3, 3, 1, 1, 3, 1, 1, 1, 3, 3, 0, 3,\n",
              "       1, 1, 1, 2, 3, 0, 2, 1, 3, 1, 2, 1, 2, 1, 0, 2, 2, 4, 2, 2, 3, 4,\n",
              "       3, 1, 1, 3, 4, 2, 3, 0, 1, 0, 2, 4, 2, 1, 2, 1, 1, 1, 1, 2, 0, 0,\n",
              "       0, 1, 0, 4, 2, 2, 0, 1, 0, 3, 1, 3, 0, 2, 0, 3, 1, 2, 2, 1, 0, 0,\n",
              "       1, 4, 1, 1, 4, 1, 3, 1, 1, 3, 0, 2, 2, 2, 1, 0, 2, 0, 2, 3, 4, 1,\n",
              "       0, 3, 2, 2, 0, 3, 0, 0, 0, 3, 2, 3, 0, 0, 2, 1, 1, 1, 2, 0, 0, 2,\n",
              "       0, 2, 0, 1, 3, 1, 3, 4, 4, 1, 2, 0, 3, 3, 1, 0, 3, 2, 3, 0, 0, 2,\n",
              "       2, 4, 3, 2, 3, 3, 4, 3, 3, 2, 1, 1, 0, 4, 1, 2, 3, 0, 1, 3, 0, 0,\n",
              "       3, 1])"
            ]
          },
          "metadata": {
            "tags": []
          },
          "execution_count": 421
        }
      ]
    },
    {
      "cell_type": "code",
      "metadata": {
        "colab": {
          "base_uri": "https://localhost:8080/"
        },
        "id": "_rbTbhlN3dvw",
        "outputId": "6906c90f-839a-4bbc-af5b-e429a70d71d0"
      },
      "source": [
        "#getting accuracy of the model\n",
        "score = rf_model.score(X_train,y_train)\n",
        "score"
      ],
      "execution_count": 422,
      "outputs": [
        {
          "output_type": "execute_result",
          "data": {
            "text/plain": [
              "0.99875"
            ]
          },
          "metadata": {
            "tags": []
          },
          "execution_count": 422
        }
      ]
    },
    {
      "cell_type": "code",
      "metadata": {
        "colab": {
          "base_uri": "https://localhost:8080/"
        },
        "id": "Q20xeBnyL-Q6",
        "outputId": "98954831-70c8-4d1d-aa69-66c2e27f7821"
      },
      "source": [
        "score1 = rf_model.score(X_test,y_test)\n",
        "score1"
      ],
      "execution_count": 423,
      "outputs": [
        {
          "output_type": "execute_result",
          "data": {
            "text/plain": [
              "0.195"
            ]
          },
          "metadata": {
            "tags": []
          },
          "execution_count": 423
        }
      ]
    },
    {
      "cell_type": "code",
      "metadata": {
        "id": "hHtZ52y4MzQz"
      },
      "source": [
        "importances = rf_model.named_steps['randomforestclassifier'].feature_importances_\n",
        "features = rf_model.named_steps['ordinalencoder'].get_feature_names()\n",
        "feat_imp = pd.Series(importances,index=features).sort_values()"
      ],
      "execution_count": 424,
      "outputs": []
    },
    {
      "cell_type": "code",
      "metadata": {
        "colab": {
          "base_uri": "https://localhost:8080/",
          "height": 283
        },
        "id": "muc9J0ZsM1hV",
        "outputId": "dd0675e8-8ce4-418b-dd64-2058fd1949fc"
      },
      "source": [
        "feat_imp.tail(10).plot(kind='barh')"
      ],
      "execution_count": 425,
      "outputs": [
        {
          "output_type": "execute_result",
          "data": {
            "text/plain": [
              "<matplotlib.axes._subplots.AxesSubplot at 0x7fe78e7bd090>"
            ]
          },
          "metadata": {
            "tags": []
          },
          "execution_count": 425
        },
        {
          "output_type": "display_data",
          "data": {
            "image/png": "[encoded data removed]",
            "text/plain": [
              "<Figure size 432x288 with 1 Axes>"
            ]
          },
          "metadata": {
            "tags": [],
            "needs_background": "light"
          }
        }
      ]
    },
    {
      "cell_type": "code",
      "metadata": {
        "colab": {
          "base_uri": "https://localhost:8080/"
        },
        "id": "87W0771kCAaD",
        "outputId": "0cfae198-33ff-4a03-b4ad-55d663880dc0"
      },
      "source": [
        "param_grid = {\n",
        "    'randomforestclassifier__max_depth': range(5,35,5),\n",
        "    'randomforestclassifier__n_estimators': range(25,125,25)}\n",
        "#doing a randomized search to find the pest hyper parameters for the random forest model\n",
        "model_rfrs = RandomizedSearchCV(\n",
        "    rf_model,\n",
        "    param_distributions = param_grid,\n",
        "    n_iter = 3,\n",
        "    cv = None,\n",
        "    n_jobs = -1,\n",
        "    verbose = 1\n",
        ")\n",
        "model_rfrs.fit(X,y)\n",
        "#finding the best Testing Accuracy Score for X_test and y_test\n"
      ],
      "execution_count": 426,
      "outputs": [
        {
          "output_type": "stream",
          "text": [
            "Fitting 5 folds for each of 3 candidates, totalling 15 fits\n"
          ],
          "name": "stdout"
        },
        {
          "output_type": "stream",
          "text": [
            "[Parallel(n_jobs=-1)]: Using backend LokyBackend with 2 concurrent workers.\n",
            "[Parallel(n_jobs=-1)]: Done  15 out of  15 | elapsed:    3.1s finished\n",
            "/usr/local/lib/python3.7/dist-packages/category_encoders/utils.py:21: FutureWarning: is_categorical is deprecated and will be removed in a future version.  Use is_categorical_dtype instead\n",
            "  elif pd.api.types.is_categorical(cols):\n"
          ],
          "name": "stderr"
        },
        {
          "output_type": "execute_result",
          "data": {
            "text/plain": [
              "RandomizedSearchCV(cv=None, error_score=nan,\n",
              "                   estimator=Pipeline(memory=None,\n",
              "                                      steps=[('ordinalencoder',\n",
              "                                              OrdinalEncoder(cols=['gender',\n",
              "                                                                   'race/ethnicity',\n",
              "                                                                   'lunch',\n",
              "                                                                   'test '\n",
              "                                                                   'preparation '\n",
              "                                                                   'course'],\n",
              "                                                             drop_invariant=False,\n",
              "                                                             handle_missing='value',\n",
              "                                                             handle_unknown='value',\n",
              "                                                             mapping=[{'col': 'gender',\n",
              "                                                                       'data_type': dtype('O'),\n",
              "                                                                       'mapping': female    1\n",
              "male      2\n",
              "NaN      -2\n",
              "dtype: int64},\n",
              "                                                                      {'col': 'race...\n",
              "                                                                     n_jobs=None,\n",
              "                                                                     oob_score=False,\n",
              "                                                                     random_state=42,\n",
              "                                                                     verbose=0,\n",
              "                                                                     warm_start=False))],\n",
              "                                      verbose=False),\n",
              "                   iid='deprecated', n_iter=3, n_jobs=-1,\n",
              "                   param_distributions={'randomforestclassifier__max_depth': range(5, 35, 5),\n",
              "                                        'randomforestclassifier__n_estimators': range(25, 125, 25)},\n",
              "                   pre_dispatch='2*n_jobs', random_state=None, refit=True,\n",
              "                   return_train_score=False, scoring=None, verbose=1)"
            ]
          },
          "metadata": {
            "tags": []
          },
          "execution_count": 426
        }
      ]
    },
    {
      "cell_type": "code",
      "metadata": {
        "colab": {
          "base_uri": "https://localhost:8080/"
        },
        "id": "vm4_JytKSS8k",
        "outputId": "ee96390d-7603-43c9-8920-e508d57c34c4"
      },
      "source": [
        "#finding the pest hyper parameters for the random forest model via the random search\n",
        "model_rfrs.best_params_"
      ],
      "execution_count": 427,
      "outputs": [
        {
          "output_type": "execute_result",
          "data": {
            "text/plain": [
              "{'randomforestclassifier__max_depth': 5,\n",
              " 'randomforestclassifier__n_estimators': 25}"
            ]
          },
          "metadata": {
            "tags": []
          },
          "execution_count": 427
        }
      ]
    },
    {
      "cell_type": "code",
      "metadata": {
        "colab": {
          "base_uri": "https://localhost:8080/"
        },
        "id": "d2fQ9pKDTfo6",
        "outputId": "abbc2950-85d5-4c1d-f3a9-b1bc8aadba97"
      },
      "source": [
        "#best score for the random forest model\n",
        "model_rfrs.best_score_"
      ],
      "execution_count": 428,
      "outputs": [
        {
          "output_type": "execute_result",
          "data": {
            "text/plain": [
              "0.21000000000000002"
            ]
          },
          "metadata": {
            "tags": []
          },
          "execution_count": 428
        }
      ]
    },
    {
      "cell_type": "code",
      "metadata": {
        "colab": {
          "base_uri": "https://localhost:8080/"
        },
        "id": "vsZm7GD5UNC9",
        "outputId": "d39a75d6-1c3c-4b73-8ef2-a727ae91f91e"
      },
      "source": [
        "#trying out an xgboost model\n",
        "model_xgb = make_pipeline(\n",
        "    OrdinalEncoder(), \n",
        "    XGBClassifier(random_state=42,n_jobs=-1)\n",
        ")\n",
        "\n",
        "# Fit on train, score on val\n",
        "model_xgb.fit(X_train, y_train)"
      ],
      "execution_count": 429,
      "outputs": [
        {
          "output_type": "execute_result",
          "data": {
            "text/plain": [
              "Pipeline(memory=None,\n",
              "         steps=[('ordinalencoder',\n",
              "                 OrdinalEncoder(cols=['gender', 'race/ethnicity', 'lunch',\n",
              "                                      'test preparation course'],\n",
              "                                drop_invariant=False, handle_missing='value',\n",
              "                                handle_unknown='value',\n",
              "                                mapping=[{'col': 'gender',\n",
              "                                          'data_type': dtype('O'),\n",
              "                                          'mapping': female    1\n",
              "male      2\n",
              "NaN      -2\n",
              "dtype: int64},\n",
              "                                         {'col': 'race/ethnicity',\n",
              "                                          'data_type': dtype('O'),\n",
              "                                          'mapping': group D    1\n",
              "group...\n",
              "                 XGBClassifier(base_score=0.5, booster='gbtree',\n",
              "                               colsample_bylevel=1, colsample_bynode=1,\n",
              "                               colsample_bytree=1, gamma=0, learning_rate=0.1,\n",
              "                               max_delta_step=0, max_depth=3,\n",
              "                               min_child_weight=1, missing=None,\n",
              "                               n_estimators=100, n_jobs=-1, nthread=None,\n",
              "                               objective='multi:softprob', random_state=42,\n",
              "                               reg_alpha=0, reg_lambda=1, scale_pos_weight=1,\n",
              "                               seed=None, silent=None, subsample=1,\n",
              "                               verbosity=1))],\n",
              "         verbose=False)"
            ]
          },
          "metadata": {
            "tags": []
          },
          "execution_count": 429
        }
      ]
    },
    {
      "cell_type": "code",
      "metadata": {
        "colab": {
          "base_uri": "https://localhost:8080/"
        },
        "id": "shcRh58fUsNg",
        "outputId": "3b55e689-11d6-454f-b084-050f8fdec7d3"
      },
      "source": [
        "#Training accuracy for model_xgb\n",
        "model_xgb.score(X_train, y_train)\n"
      ],
      "execution_count": 430,
      "outputs": [
        {
          "output_type": "execute_result",
          "data": {
            "text/plain": [
              "0.565"
            ]
          },
          "metadata": {
            "tags": []
          },
          "execution_count": 430
        }
      ]
    },
    {
      "cell_type": "code",
      "metadata": {
        "colab": {
          "base_uri": "https://localhost:8080/"
        },
        "id": "meWgz-E2Uy9O",
        "outputId": "abef35a8-24be-4c99-a925-b890e5b47001"
      },
      "source": [
        "#Test accuracy for model_xgb which is slightly better than my random forest model!\n",
        "model_xgb.score(X_test, y_test)"
      ],
      "execution_count": 431,
      "outputs": [
        {
          "output_type": "execute_result",
          "data": {
            "text/plain": [
              "0.25"
            ]
          },
          "metadata": {
            "tags": []
          },
          "execution_count": 431
        }
      ]
    },
    {
      "cell_type": "code",
      "metadata": {
        "id": "pSz1CawWVZqS"
      },
      "source": [
        "perm_imp = permutation_importance(model_xgb,X_test,y_test,random_state=42)"
      ],
      "execution_count": 432,
      "outputs": []
    },
    {
      "cell_type": "code",
      "metadata": {
        "id": "yq3FivnUVV6o"
      },
      "source": [
        "#calculating permutation importance\n",
        "data = {'imp_mean':perm_imp['importances_mean'],\n",
        "        'imp_std':perm_imp['importances_std']}\n",
        "df_perm = pd.DataFrame(data,index=X_test.columns).sort_values(by='imp_mean')"
      ],
      "execution_count": 433,
      "outputs": []
    },
    {
      "cell_type": "code",
      "metadata": {
        "colab": {
          "base_uri": "https://localhost:8080/",
          "height": 283
        },
        "id": "RrigEpi2WpYe",
        "outputId": "87183b91-5069-4d86-e33e-83552690fffc"
      },
      "source": [
        "df_perm['imp_mean'].tail(10).plot(kind='barh')"
      ],
      "execution_count": 434,
      "outputs": [
        {
          "output_type": "execute_result",
          "data": {
            "text/plain": [
              "<matplotlib.axes._subplots.AxesSubplot at 0x7fe798cc7d90>"
            ]
          },
          "metadata": {
            "tags": []
          },
          "execution_count": 434
        },
        {
          "output_type": "display_data",
          "data": {
            "image/png": "[encoded data removed]",
            "text/plain": [
              "<Figure size 432x288 with 1 Axes>"
            ]
          },
          "metadata": {
            "tags": [],
            "needs_background": "light"
          }
        }
      ]
    },
    {
      "cell_type": "code",
      "metadata": {
        "colab": {
          "base_uri": "https://localhost:8080/",
          "height": 268
        },
        "id": "bGIXWaP0WrI3",
        "outputId": "838fa7e3-7c8f-4c89-c9e0-4a6e8046af98"
      },
      "source": [
        "df_perm"
      ],
      "execution_count": 435,
      "outputs": [
        {
          "output_type": "execute_result",
          "data": {
            "text/html": [
              "<div>\n",
              "<style scoped>\n",
              "    .dataframe tbody tr th:only-of-type {\n",
              "        vertical-align: middle;\n",
              "    }\n",
              "\n",
              "    .dataframe tbody tr th {\n",
              "        vertical-align: top;\n",
              "    }\n",
              "\n",
              "    .dataframe thead th {\n",
              "        text-align: right;\n",
              "    }\n",
              "</style>\n",
              "<table border=\"1\" class=\"dataframe\">\n",
              "  <thead>\n",
              "    <tr style=\"text-align: right;\">\n",
              "      <th></th>\n",
              "      <th>imp_mean</th>\n",
              "      <th>imp_std</th>\n",
              "    </tr>\n",
              "  </thead>\n",
              "  <tbody>\n",
              "    <tr>\n",
              "      <th>gender</th>\n",
              "      <td>-0.012</td>\n",
              "      <td>0.006782</td>\n",
              "    </tr>\n",
              "    <tr>\n",
              "      <th>race/ethnicity</th>\n",
              "      <td>-0.007</td>\n",
              "      <td>0.012083</td>\n",
              "    </tr>\n",
              "    <tr>\n",
              "      <th>test preparation course</th>\n",
              "      <td>0.012</td>\n",
              "      <td>0.011662</td>\n",
              "    </tr>\n",
              "    <tr>\n",
              "      <th>math score</th>\n",
              "      <td>0.019</td>\n",
              "      <td>0.022672</td>\n",
              "    </tr>\n",
              "    <tr>\n",
              "      <th>lunch</th>\n",
              "      <td>0.021</td>\n",
              "      <td>0.012000</td>\n",
              "    </tr>\n",
              "    <tr>\n",
              "      <th>reading score</th>\n",
              "      <td>0.030</td>\n",
              "      <td>0.025884</td>\n",
              "    </tr>\n",
              "    <tr>\n",
              "      <th>writing score</th>\n",
              "      <td>0.067</td>\n",
              "      <td>0.022935</td>\n",
              "    </tr>\n",
              "  </tbody>\n",
              "</table>\n",
              "</div>"
            ],
            "text/plain": [
              "                         imp_mean   imp_std\n",
              "gender                     -0.012  0.006782\n",
              "race/ethnicity             -0.007  0.012083\n",
              "test preparation course     0.012  0.011662\n",
              "math score                  0.019  0.022672\n",
              "lunch                       0.021  0.012000\n",
              "reading score               0.030  0.025884\n",
              "writing score               0.067  0.022935"
            ]
          },
          "metadata": {
            "tags": []
          },
          "execution_count": 435
        }
      ]
    }
  ]
}