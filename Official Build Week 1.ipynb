{
  "nbformat": 4,
  "nbformat_minor": 0,
  "metadata": {
    "colab": {
      "name": "Copy of Build Week 1.ipynb",
      "provenance": [],
      "collapsed_sections": [],
      "authorship_tag": "ABX9TyMxeKmGv3f6fGa7/hS223aN",
      "include_colab_link": true
    },
    "kernelspec": {
      "name": "python3",
      "display_name": "Python 3"
    },
    "language_info": {
      "name": "python"
    }
  },
  "cells": [
    {
      "cell_type": "markdown",
      "metadata": {
        "id": "view-in-github",
        "colab_type": "text"
      },
      "source": [
        "<a href=\"https://colab.research.google.com/github/JacksonReber/BuildWeek/blob/master/Official%20Build%20Week%201.ipynb\" target=\"_parent\"><img src=\"https://colab.research.google.com/assets/colab-badge.svg\" alt=\"Open In Colab\"/></a>"
      ]
    },
    {
      "cell_type": "code",
      "metadata": {
        "id": "FbAV1C90rSOR"
      },
      "source": [
        "import matplotlib.pyplot as plt\n",
        "import seaborn as sns\n",
        "import pandas as pd\n",
        "pd.options.display.max_rows = 1000\n",
        "pd.options.display.max_columns = 1000"
      ],
      "execution_count": 55,
      "outputs": []
    },
    {
      "cell_type": "code",
      "metadata": {
        "id": "0x5lyNUnZaxZ"
      },
      "source": [
        "df = pd.merge(pd.read_csv('naep.csv'), \n",
        "                 pd.read_csv('states.csv'))\n",
        "df1 = pd.read_csv('districts.csv')\n",
        "def wrangle(df):\n",
        "  df['AVG_SCORE'] = pd.to_numeric(df['AVG_SCORE'], errors='coerce')\n",
        "  df['AVG_SCORE'] = round(df['AVG_SCORE'], ndigits=4)\n",
        "  df.set_index('YEAR', inplace=True)\n",
        "  df = df.drop(index=[1992,1994, 1996, 1998, 2000, 2002], inplace=True)\n",
        "\n",
        "\n",
        "\n",
        "  return df\n",
        "data = wrangle(df)"
      ],
      "execution_count": 119,
      "outputs": []
    },
    {
      "cell_type": "code",
      "metadata": {
        "id": "7T3SyztQbDqs",
        "colab": {
          "base_uri": "https://localhost:8080/",
          "height": 256
        },
        "outputId": "17eac704-8e08-49c7-90e3-82cdbdc6cf2d"
      },
      "source": [
        "df.head()"
      ],
      "execution_count": 122,
      "outputs": [
        {
          "output_type": "execute_result",
          "data": {
            "text/html": [
              "<div>\n",
              "<style scoped>\n",
              "    .dataframe tbody tr th:only-of-type {\n",
              "        vertical-align: middle;\n",
              "    }\n",
              "\n",
              "    .dataframe tbody tr th {\n",
              "        vertical-align: top;\n",
              "    }\n",
              "\n",
              "    .dataframe thead th {\n",
              "        text-align: right;\n",
              "    }\n",
              "</style>\n",
              "<table border=\"1\" class=\"dataframe\">\n",
              "  <thead>\n",
              "    <tr style=\"text-align: right;\">\n",
              "      <th></th>\n",
              "      <th>STATE</th>\n",
              "      <th>AVG_SCORE</th>\n",
              "      <th>TEST_SUBJECT</th>\n",
              "      <th>TEST_YEAR</th>\n",
              "      <th>ENROLL</th>\n",
              "      <th>TOTAL_REVENUE</th>\n",
              "      <th>FEDERAL_REVENUE</th>\n",
              "      <th>STATE_REVENUE</th>\n",
              "      <th>LOCAL_REVENUE</th>\n",
              "      <th>TOTAL_EXPENDITURE</th>\n",
              "      <th>INSTRUCTION_EXPENDITURE</th>\n",
              "      <th>SUPPORT_SERVICES_EXPENDITURE</th>\n",
              "      <th>OTHER_EXPENDITURE</th>\n",
              "      <th>CAPITAL_OUTLAY_EXPENDITURE</th>\n",
              "    </tr>\n",
              "    <tr>\n",
              "      <th>YEAR</th>\n",
              "      <th></th>\n",
              "      <th></th>\n",
              "      <th></th>\n",
              "      <th></th>\n",
              "      <th></th>\n",
              "      <th></th>\n",
              "      <th></th>\n",
              "      <th></th>\n",
              "      <th></th>\n",
              "      <th></th>\n",
              "      <th></th>\n",
              "      <th></th>\n",
              "      <th></th>\n",
              "      <th></th>\n",
              "    </tr>\n",
              "  </thead>\n",
              "  <tbody>\n",
              "    <tr>\n",
              "      <th>2015</th>\n",
              "      <td>Alabama</td>\n",
              "      <td>230.9774</td>\n",
              "      <td>Mathematics</td>\n",
              "      <td>4</td>\n",
              "      <td>734974.0</td>\n",
              "      <td>7360222</td>\n",
              "      <td>795238</td>\n",
              "      <td>4080167</td>\n",
              "      <td>2484817</td>\n",
              "      <td>7501799</td>\n",
              "      <td>3817479</td>\n",
              "      <td>2414860</td>\n",
              "      <td>594283.0</td>\n",
              "      <td>510091</td>\n",
              "    </tr>\n",
              "    <tr>\n",
              "      <th>2015</th>\n",
              "      <td>Alabama</td>\n",
              "      <td>266.5553</td>\n",
              "      <td>Mathematics</td>\n",
              "      <td>8</td>\n",
              "      <td>734974.0</td>\n",
              "      <td>7360222</td>\n",
              "      <td>795238</td>\n",
              "      <td>4080167</td>\n",
              "      <td>2484817</td>\n",
              "      <td>7501799</td>\n",
              "      <td>3817479</td>\n",
              "      <td>2414860</td>\n",
              "      <td>594283.0</td>\n",
              "      <td>510091</td>\n",
              "    </tr>\n",
              "    <tr>\n",
              "      <th>2015</th>\n",
              "      <td>Alabama</td>\n",
              "      <td>217.0491</td>\n",
              "      <td>Reading</td>\n",
              "      <td>4</td>\n",
              "      <td>734974.0</td>\n",
              "      <td>7360222</td>\n",
              "      <td>795238</td>\n",
              "      <td>4080167</td>\n",
              "      <td>2484817</td>\n",
              "      <td>7501799</td>\n",
              "      <td>3817479</td>\n",
              "      <td>2414860</td>\n",
              "      <td>594283.0</td>\n",
              "      <td>510091</td>\n",
              "    </tr>\n",
              "    <tr>\n",
              "      <th>2015</th>\n",
              "      <td>Alabama</td>\n",
              "      <td>258.7538</td>\n",
              "      <td>Reading</td>\n",
              "      <td>8</td>\n",
              "      <td>734974.0</td>\n",
              "      <td>7360222</td>\n",
              "      <td>795238</td>\n",
              "      <td>4080167</td>\n",
              "      <td>2484817</td>\n",
              "      <td>7501799</td>\n",
              "      <td>3817479</td>\n",
              "      <td>2414860</td>\n",
              "      <td>594283.0</td>\n",
              "      <td>510091</td>\n",
              "    </tr>\n",
              "    <tr>\n",
              "      <th>2015</th>\n",
              "      <td>Alaska</td>\n",
              "      <td>236.3284</td>\n",
              "      <td>Mathematics</td>\n",
              "      <td>4</td>\n",
              "      <td>130755.0</td>\n",
              "      <td>2920986</td>\n",
              "      <td>344111</td>\n",
              "      <td>2026555</td>\n",
              "      <td>550320</td>\n",
              "      <td>2968341</td>\n",
              "      <td>1484610</td>\n",
              "      <td>1068849</td>\n",
              "      <td>92766.0</td>\n",
              "      <td>281914</td>\n",
              "    </tr>\n",
              "  </tbody>\n",
              "</table>\n",
              "</div>"
            ],
            "text/plain": [
              "        STATE  AVG_SCORE TEST_SUBJECT  TEST_YEAR    ENROLL  TOTAL_REVENUE  \\\n",
              "YEAR                                                                        \n",
              "2015  Alabama   230.9774  Mathematics          4  734974.0        7360222   \n",
              "2015  Alabama   266.5553  Mathematics          8  734974.0        7360222   \n",
              "2015  Alabama   217.0491      Reading          4  734974.0        7360222   \n",
              "2015  Alabama   258.7538      Reading          8  734974.0        7360222   \n",
              "2015   Alaska   236.3284  Mathematics          4  130755.0        2920986   \n",
              "\n",
              "      FEDERAL_REVENUE  STATE_REVENUE  LOCAL_REVENUE  TOTAL_EXPENDITURE  \\\n",
              "YEAR                                                                     \n",
              "2015           795238        4080167        2484817            7501799   \n",
              "2015           795238        4080167        2484817            7501799   \n",
              "2015           795238        4080167        2484817            7501799   \n",
              "2015           795238        4080167        2484817            7501799   \n",
              "2015           344111        2026555         550320            2968341   \n",
              "\n",
              "      INSTRUCTION_EXPENDITURE  SUPPORT_SERVICES_EXPENDITURE  \\\n",
              "YEAR                                                          \n",
              "2015                  3817479                       2414860   \n",
              "2015                  3817479                       2414860   \n",
              "2015                  3817479                       2414860   \n",
              "2015                  3817479                       2414860   \n",
              "2015                  1484610                       1068849   \n",
              "\n",
              "      OTHER_EXPENDITURE  CAPITAL_OUTLAY_EXPENDITURE  \n",
              "YEAR                                                 \n",
              "2015           594283.0                      510091  \n",
              "2015           594283.0                      510091  \n",
              "2015           594283.0                      510091  \n",
              "2015           594283.0                      510091  \n",
              "2015            92766.0                      281914  "
            ]
          },
          "metadata": {
            "tags": []
          },
          "execution_count": 122
        }
      ]
    },
    {
      "cell_type": "code",
      "metadata": {
        "id": "pS5IwWtHcHgZ"
      },
      "source": [
        "target = 'AVG_SCORE'\n",
        "y = df[target]\n",
        "X = df.drop(target, axis=1)"
      ],
      "execution_count": 127,
      "outputs": []
    },
    {
      "cell_type": "code",
      "metadata": {
        "id": "vzkvHnC_0ABp"
      },
      "source": [
        "#training data between 2003 - 2007\n",
        "train_mask = X.index < 2008\n",
        "X_train, y_train = X.loc[train_mask], y.loc[train_mask]\n",
        "\n",
        "# validation data during between 2009 and 2013\n",
        "val_mask = (df.index <= 2013) & (df.index >= 2009)\n",
        "X_val, y_val = X.loc[val_mask], y.loc[val_mask]\n",
        "\n",
        "# test data for year 2015\n",
        "test_mask = X.index >= 2014\n",
        "X_test, y_test = X.loc[test_mask], y.loc[test_mask]"
      ],
      "execution_count": 131,
      "outputs": []
    },
    {
      "cell_type": "code",
      "metadata": {
        "id": "N-CLpdZK9_wZ",
        "outputId": "51b11f19-65b0-46d6-8e57-c1a3b2459bc9",
        "colab": {
          "base_uri": "https://localhost:8080/"
        }
      },
      "source": [
        ""
      ],
      "execution_count": 135,
      "outputs": [
        {
          "output_type": "execute_result",
          "data": {
            "text/plain": [
              "2015    204\n",
              "Name: YEAR, dtype: int64"
            ]
          },
          "metadata": {
            "tags": []
          },
          "execution_count": 135
        }
      ]
    }
  ]
}