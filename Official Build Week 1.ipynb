{
  "nbformat": 4,
  "nbformat_minor": 0,
  "metadata": {
    "colab": {
      "name": "Copy of Build Week 1.ipynb",
      "provenance": [],
      "collapsed_sections": [],
      "authorship_tag": "ABX9TyNUn7OwjUil2cs8QAcEfcPR",
      "include_colab_link": true
    },
    "kernelspec": {
      "name": "python3",
      "display_name": "Python 3"
    },
    "language_info": {
      "name": "python"
    }
  },
  "cells": [
    {
      "cell_type": "markdown",
      "metadata": {
        "id": "view-in-github",
        "colab_type": "text"
      },
      "source": [
        "<a href=\"https://colab.research.google.com/github/JacksonReber/BuildWeek/blob/master/Official%20Build%20Week%201.ipynb\" target=\"_parent\"><img src=\"https://colab.research.google.com/assets/colab-badge.svg\" alt=\"Open In Colab\"/></a>"
      ]
    },
    {
      "cell_type": "code",
      "metadata": {
        "id": "FbAV1C90rSOR"
      },
      "source": [
        "import matplotlib.pyplot as plt\n",
        "import seaborn as sns\n",
        "import pandas as pd\n",
        "pd.options.display.max_rows = 1000\n",
        "pd.options.display.max_columns = 1000"
      ],
      "execution_count": 16,
      "outputs": []
    },
    {
      "cell_type": "code",
      "metadata": {
        "id": "0x5lyNUnZaxZ"
      },
      "source": [
        "\n",
        "\n",
        "\n",
        "df = pd.merge(pd.read_csv('naep.csv'), \n",
        "                 pd.read_csv('states.csv'))\n",
        "df1 = pd.read_csv('districts.csv')\n",
        "df['AVG_SCORE'] = pd.to_numeric(df['AVG_SCORE'], errors='coerce')\n",
        "df['AVG_SCORE'] = round(df['AVG_SCORE'], ndigits=4)"
      ],
      "execution_count": 23,
      "outputs": []
    },
    {
      "cell_type": "code",
      "metadata": {
        "id": "7T3SyztQbDqs",
        "colab": {
          "base_uri": "https://localhost:8080/",
          "height": 225
        },
        "outputId": "22965d41-9898-4a9c-c6bc-06d1262a205b"
      },
      "source": [
        "df.head()"
      ],
      "execution_count": 18,
      "outputs": [
        {
          "output_type": "execute_result",
          "data": {
            "text/html": [
              "<div>\n",
              "<style scoped>\n",
              "    .dataframe tbody tr th:only-of-type {\n",
              "        vertical-align: middle;\n",
              "    }\n",
              "\n",
              "    .dataframe tbody tr th {\n",
              "        vertical-align: top;\n",
              "    }\n",
              "\n",
              "    .dataframe thead th {\n",
              "        text-align: right;\n",
              "    }\n",
              "</style>\n",
              "<table border=\"1\" class=\"dataframe\">\n",
              "  <thead>\n",
              "    <tr style=\"text-align: right;\">\n",
              "      <th></th>\n",
              "      <th>YEAR</th>\n",
              "      <th>STATE</th>\n",
              "      <th>AVG_SCORE</th>\n",
              "      <th>TEST_SUBJECT</th>\n",
              "      <th>TEST_YEAR</th>\n",
              "      <th>ENROLL</th>\n",
              "      <th>TOTAL_REVENUE</th>\n",
              "      <th>FEDERAL_REVENUE</th>\n",
              "      <th>STATE_REVENUE</th>\n",
              "      <th>LOCAL_REVENUE</th>\n",
              "      <th>TOTAL_EXPENDITURE</th>\n",
              "      <th>INSTRUCTION_EXPENDITURE</th>\n",
              "      <th>SUPPORT_SERVICES_EXPENDITURE</th>\n",
              "      <th>OTHER_EXPENDITURE</th>\n",
              "      <th>CAPITAL_OUTLAY_EXPENDITURE</th>\n",
              "    </tr>\n",
              "  </thead>\n",
              "  <tbody>\n",
              "    <tr>\n",
              "      <th>0</th>\n",
              "      <td>2015</td>\n",
              "      <td>Alabama</td>\n",
              "      <td>230.98</td>\n",
              "      <td>Mathematics</td>\n",
              "      <td>4</td>\n",
              "      <td>734974.0</td>\n",
              "      <td>7360222</td>\n",
              "      <td>795238</td>\n",
              "      <td>4080167</td>\n",
              "      <td>2484817</td>\n",
              "      <td>7501799</td>\n",
              "      <td>3817479</td>\n",
              "      <td>2414860</td>\n",
              "      <td>594283.0</td>\n",
              "      <td>510091</td>\n",
              "    </tr>\n",
              "    <tr>\n",
              "      <th>1</th>\n",
              "      <td>2015</td>\n",
              "      <td>Alabama</td>\n",
              "      <td>266.56</td>\n",
              "      <td>Mathematics</td>\n",
              "      <td>8</td>\n",
              "      <td>734974.0</td>\n",
              "      <td>7360222</td>\n",
              "      <td>795238</td>\n",
              "      <td>4080167</td>\n",
              "      <td>2484817</td>\n",
              "      <td>7501799</td>\n",
              "      <td>3817479</td>\n",
              "      <td>2414860</td>\n",
              "      <td>594283.0</td>\n",
              "      <td>510091</td>\n",
              "    </tr>\n",
              "    <tr>\n",
              "      <th>2</th>\n",
              "      <td>2015</td>\n",
              "      <td>Alabama</td>\n",
              "      <td>217.05</td>\n",
              "      <td>Reading</td>\n",
              "      <td>4</td>\n",
              "      <td>734974.0</td>\n",
              "      <td>7360222</td>\n",
              "      <td>795238</td>\n",
              "      <td>4080167</td>\n",
              "      <td>2484817</td>\n",
              "      <td>7501799</td>\n",
              "      <td>3817479</td>\n",
              "      <td>2414860</td>\n",
              "      <td>594283.0</td>\n",
              "      <td>510091</td>\n",
              "    </tr>\n",
              "    <tr>\n",
              "      <th>3</th>\n",
              "      <td>2015</td>\n",
              "      <td>Alabama</td>\n",
              "      <td>258.75</td>\n",
              "      <td>Reading</td>\n",
              "      <td>8</td>\n",
              "      <td>734974.0</td>\n",
              "      <td>7360222</td>\n",
              "      <td>795238</td>\n",
              "      <td>4080167</td>\n",
              "      <td>2484817</td>\n",
              "      <td>7501799</td>\n",
              "      <td>3817479</td>\n",
              "      <td>2414860</td>\n",
              "      <td>594283.0</td>\n",
              "      <td>510091</td>\n",
              "    </tr>\n",
              "    <tr>\n",
              "      <th>4</th>\n",
              "      <td>2015</td>\n",
              "      <td>Alaska</td>\n",
              "      <td>236.33</td>\n",
              "      <td>Mathematics</td>\n",
              "      <td>4</td>\n",
              "      <td>130755.0</td>\n",
              "      <td>2920986</td>\n",
              "      <td>344111</td>\n",
              "      <td>2026555</td>\n",
              "      <td>550320</td>\n",
              "      <td>2968341</td>\n",
              "      <td>1484610</td>\n",
              "      <td>1068849</td>\n",
              "      <td>92766.0</td>\n",
              "      <td>281914</td>\n",
              "    </tr>\n",
              "  </tbody>\n",
              "</table>\n",
              "</div>"
            ],
            "text/plain": [
              "   YEAR    STATE  AVG_SCORE TEST_SUBJECT  TEST_YEAR    ENROLL  TOTAL_REVENUE  \\\n",
              "0  2015  Alabama     230.98  Mathematics          4  734974.0        7360222   \n",
              "1  2015  Alabama     266.56  Mathematics          8  734974.0        7360222   \n",
              "2  2015  Alabama     217.05      Reading          4  734974.0        7360222   \n",
              "3  2015  Alabama     258.75      Reading          8  734974.0        7360222   \n",
              "4  2015   Alaska     236.33  Mathematics          4  130755.0        2920986   \n",
              "\n",
              "   FEDERAL_REVENUE  STATE_REVENUE  LOCAL_REVENUE  TOTAL_EXPENDITURE  \\\n",
              "0           795238        4080167        2484817            7501799   \n",
              "1           795238        4080167        2484817            7501799   \n",
              "2           795238        4080167        2484817            7501799   \n",
              "3           795238        4080167        2484817            7501799   \n",
              "4           344111        2026555         550320            2968341   \n",
              "\n",
              "   INSTRUCTION_EXPENDITURE  SUPPORT_SERVICES_EXPENDITURE  OTHER_EXPENDITURE  \\\n",
              "0                  3817479                       2414860           594283.0   \n",
              "1                  3817479                       2414860           594283.0   \n",
              "2                  3817479                       2414860           594283.0   \n",
              "3                  3817479                       2414860           594283.0   \n",
              "4                  1484610                       1068849            92766.0   \n",
              "\n",
              "   CAPITAL_OUTLAY_EXPENDITURE  \n",
              "0                      510091  \n",
              "1                      510091  \n",
              "2                      510091  \n",
              "3                      510091  \n",
              "4                      281914  "
            ]
          },
          "metadata": {
            "tags": []
          },
          "execution_count": 18
        }
      ]
    },
    {
      "cell_type": "code",
      "metadata": {
        "id": "pS5IwWtHcHgZ"
      },
      "source": [
        "df['AVG_SCORE'] = pd.to_numeric(df['AVG_SCORE'], errors='coerce')\n",
        "\n"
      ],
      "execution_count": 19,
      "outputs": []
    },
    {
      "cell_type": "code",
      "metadata": {
        "id": "xbEAndQ_uxH3"
      },
      "source": [
        "df['AVG_SCORE'] = round(df['AVG_SCORE'], ndigits=2)"
      ],
      "execution_count": 20,
      "outputs": []
    },
    {
      "cell_type": "code",
      "metadata": {
        "id": "QvrBFyOAu8V0",
        "colab": {
          "base_uri": "https://localhost:8080/",
          "height": 283
        },
        "outputId": "bb16d118-2c30-44ae-ba8f-29c96291742c"
      },
      "source": [
        "df['AVG_SCORE'].hist(bins=100)"
      ],
      "execution_count": 21,
      "outputs": [
        {
          "output_type": "execute_result",
          "data": {
            "text/plain": [
              "<matplotlib.axes._subplots.AxesSubplot at 0x7f8ea2ba3cd0>"
            ]
          },
          "metadata": {
            "tags": []
          },
          "execution_count": 21
        },
        {
          "output_type": "display_data",
          "data": {
            "image/png": "[encoded data removed]",
            "text/plain": [
              "<Figure size 432x288 with 1 Axes>"
            ]
          },
          "metadata": {
            "tags": [],
            "needs_background": "light"
          }
        }
      ]
    }
  ]
}